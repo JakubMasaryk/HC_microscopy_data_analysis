{
 "cells": [
  {
   "cell_type": "markdown",
   "id": "7296e8f5-6ac3-4ed1-86b5-4d27d4275c55",
   "metadata": {},
   "source": [
    "__Libraries__"
   ]
  },
  {
   "cell_type": "code",
   "execution_count": 3,
   "id": "b1602294-416b-4af4-8cbf-e137d6265587",
   "metadata": {
    "tags": []
   },
   "outputs": [],
   "source": [
    "import numpy as np\n",
    "import pandas as pd\n",
    "import matplotlib.pyplot as plt\n",
    "import seaborn as sns\n",
    "import math\n",
    "from matplotlib import patches\n",
    "from scipy import stats\n",
    "from matplotlib.patches import Patch\n",
    "from sqlalchemy import create_engine\n",
    "import string\n",
    "import os\n",
    "import re\n",
    "import pwlf"
   ]
  },
  {
   "cell_type": "markdown",
   "id": "ed321087-a5c9-48b1-b8e7-3597ea08da36",
   "metadata": {},
   "source": [
    "__Params__"
   ]
  },
  {
   "cell_type": "code",
   "execution_count": 5,
   "id": "45f8ec64-107a-43bc-8c4d-37e3ca0815b5",
   "metadata": {
    "tags": []
   },
   "outputs": [],
   "source": [
    "# plt.rcParams['savefig.dpi']= 1000\n",
    "# plt.rcParams['savefig.format']= 'png'\n",
    "# plt.rcParams['axes.linewidth']= 1.4\n",
    "# plt.rcParams['xtick.major.size']= 6\n",
    "# plt.rcParams['ytick.major.size']= 6\n",
    "# plt.rcParams['xtick.major.width']= 1.5\n",
    "# plt.rcParams['ytick.major.width']= 1.5\n",
    "# plt.rcParams['axes.titleweight']= 'bold'\n",
    "# plt.rcParams['axes.labelweight']= 'bold'\n",
    "# # plt.rcParams['font.weight']= 'bold'\n",
    "# plt.rcParams['legend.frameon']= False\n",
    "# plt.rcParams['figure.constrained_layout.use']= True\n",
    "# plt.rcParams['axes.spines.top']= True\n",
    "# plt.rcParams['axes.spines.right']= True\n",
    "# plt.rcParams['axes.spines.bottom']= True\n",
    "# plt.rcParams['axes.spines.left']= True\n",
    "# # plt.rcParams['axes.grid']= False\n",
    "# plt.rcParams['font.size'] = 11 \n",
    "# plt.rcParams['axes.titlesize'] = 12 \n",
    "# plt.rcParams['axes.labelsize'] = 10  \n",
    "# plt.rcParams['xtick.labelsize'] = 12 \n",
    "# plt.rcParams['ytick.labelsize'] = 12\n",
    "# plt.rcParams['legend.fontsize'] = 8"
   ]
  },
  {
   "cell_type": "markdown",
   "id": "2eb69dad-ede7-4496-8fcf-10e2b50b35e7",
   "metadata": {},
   "source": [
    "----------------------------------------------------------------------------------------------------------------"
   ]
  },
  {
   "cell_type": "markdown",
   "id": "980456e5-c508-4a8f-92e7-3b00b8470d61",
   "metadata": {},
   "source": [
    "__Inputs__"
   ]
  },
  {
   "cell_type": "code",
   "execution_count": 8,
   "id": "bd7bb358-4e42-47f6-ad47-b7c112e91245",
   "metadata": {
    "tags": []
   },
   "outputs": [],
   "source": [
    "cell_count_threshold= 50\n",
    "\n",
    "p_value_threshold= 0.0001\n",
    "\n",
    "perc_sign_diff_timepoints_thre= 0.80\n",
    "\n",
    "#paths to files (if applicable)\n",
    "strains= r\"C:\\Users\\Jakub\\Desktop\\figures\\Figure_3\\Fig3_data\\96database_complete.xlsx\" #file, path to strain-collection database\n",
    "experimental_data= r\"C:\\Users\\Jakub\\Desktop\\figures\\Figure_3\\Fig3_data\\all_plates(summary by well)\" #folder\n",
    "\n",
    "#mysql server connection parameters\n",
    "username= 'root'\n",
    "password= 'poef.qve5353'\n",
    "hostname= '127.0.0.1'\n",
    "port= '3306'"
   ]
  },
  {
   "cell_type": "markdown",
   "id": "277f15a9-cc1e-4eff-8698-0eb580fa4262",
   "metadata": {},
   "source": [
    "---------------------------------------------------------------------------------------"
   ]
  },
  {
   "cell_type": "markdown",
   "id": "f6ab82e3-05bb-4146-9ca5-3c4c408ff0e8",
   "metadata": {},
   "source": [
    "__Data Load and Preprocess__"
   ]
  },
  {
   "cell_type": "markdown",
   "id": "cc45b531-f5ac-45c1-b365-a8fa76900296",
   "metadata": {},
   "source": [
    "* __from files__"
   ]
  },
  {
   "cell_type": "code",
   "execution_count": 12,
   "id": "471c6bf6-b086-4a4c-aa21-b1ac63b0edd7",
   "metadata": {
    "tags": []
   },
   "outputs": [],
   "source": [
    "def data_load_and_preprocess(path_strain_db, path_experimental_data, initial_delay, frequency, initial_timepoints_skipped):\n",
    "    \n",
    "    #database of strains and their positions in well plates\n",
    "    strain_db= pd.read_excel(path_strain_db).iloc[:, 1:]\n",
    "    \n",
    "    #experimental data, all plates loaded from a folder and concatenated to s single dataframe, pre-processing (timepoints, column selection, column names, proportion of the cells with aggregates calculated) applied\n",
    "    data_folder= path_experimental_data\n",
    "    data= pd.DataFrame() #empty dataframe\n",
    "    for plate in os.listdir(data_folder):\n",
    "        plate_name= plate[6:-4] #file name with '.csv' removed\n",
    "        plate_path= os.path.join(data_folder, plate) # path to a single plate\n",
    "        plate_data= pd.read_csv(plate_path,\n",
    "                                usecols= ['WELL LABEL', 'T', 'Cells Count wv1', 'Granules Cells with Org wv2', 'Granules Org per Cell wv2', 'Granules Area wv2'],\n",
    "                                converters= {'WELL LABEL':lambda x: x.replace(' - ', '0') if len(x) == 5 else x.replace(' - ', '')}) #plate data load\n",
    "        plate_data= plate_data.assign(Timepoint_minutes= plate_data['T'] * frequency - (frequency - initial_delay),\n",
    "                                      Timepoint_hours= lambda x: x['Timepoint_minutes']/60,\n",
    "                                      Percentage= (plate_data['Granules Cells with Org wv2']/plate_data['Cells Count wv1'])*100,\n",
    "                                      Plate= plate_name)\n",
    "        plate_data.columns= ['Well', 'Timepoint', 'NumberOfCells', 'NumberOfCellsContainingAggregates', 'AverageNumberOfAggregatesPerCell', 'AverageSizeOfSingleAggregates', 'TimepointMinutes', 'TimepointHours', 'PercentageOfCellsContainingAggregates', 'Plate']    \n",
    "        plate_data= plate_data.reindex(columns= ['Well', 'Timepoint', 'TimepointHours', 'TimepointMinutes', 'NumberOfCells', 'NumberOfCellsContainingAggregates','PercentageOfCellsContainingAggregates', 'AverageNumberOfAggregatesPerCell', 'AverageSizeOfSingleAggregates', 'Plate'])\n",
    "        data= pd.concat([data, plate_data], ignore_index= True) #appending to a common dataframe\n",
    "    data= data.loc[data.Timepoint > initial_timepoints_skipped]\n",
    "    \n",
    "    # converting the well-labels from 384- to 96-format\n",
    "    # needed for proper assignment of mutation labels from database (based on plate-well in 96 format)\n",
    "    UL= [x + '0' + str(y) if (y < 10) else x + str(y) for x in list(string.ascii_uppercase)[:8] for y in list(range(1, 13))]\n",
    "    UR= [x + str(y) for x in list(string.ascii_uppercase)[:8] for y in list(range(13, 25))]\n",
    "    LL= [x + '0' + str(y) if (y < 10) else x + str(y) for x in list(string.ascii_uppercase)[8:16] for y in list(range(1, 13))]\n",
    "    LR= [x + str(y) for x in list(string.ascii_uppercase)[8:16]  for y in list(range(13, 25))]\n",
    "    _384plate= UL + UR + LL + LR\n",
    "    \n",
    "    _96plate_section= [x + '0' + str(y) if (y < 10) else x + str(y) for x in list(string.ascii_uppercase)[:8] for y in list(range(1, 13))]\n",
    "    _96plate= _96plate_section + _96plate_section + _96plate_section + _96plate_section\n",
    "    \n",
    "    conversion_dict= dict(zip(_384plate, _96plate))\n",
    "    data= data.assign(Well= data.Well.map(conversion_dict))\n",
    "    \n",
    "    # assigning labels from the strain-collection database \n",
    "    data= data.merge(strain_db.loc[:, ['Plate', 'Well', 'ORF', 'Mutation']], how= 'left', on= ['Plate', 'Well'])\n",
    "    data= data.assign(ORF= np.where(data.Mutation=='WT control', '-', data.ORF), #unifies labelling with SQL db\n",
    "                      Mutation = np.where(data.Mutation=='WT control', 'wt control', data.Mutation),\n",
    "                      Gene= data.Mutation.apply(lambda x: '-' if x=='WT control' else x.split('-')[0].upper())) #unifies labelling with SQL db\n",
    "    \n",
    "    #reorder columns to unify with sql db output\n",
    "    data= data.reindex(columns= ['Plate', 'Well', 'ORF', 'Gene', 'Mutation', 'Timepoint', 'TimepointMinutes', 'TimepointHours', 'NumberOfCells', 'NumberOfCellsContainingAggregates', 'PercentageOfCellsContainingAggregates', 'AverageNumberOfAggregatesPerCell', 'AverageSizeOfSingleAggregates'])\n",
    "    \n",
    "    data= data.assign(PercentageOfCellsContainingAggregates= round(data.PercentageOfCellsContainingAggregates, 4),\n",
    "                      AverageNumberOfAggregatesPerCell= round(data.AverageNumberOfAggregatesPerCell, 6),\n",
    "                      AverageSizeOfSingleAggregates= round(data.AverageSizeOfSingleAggregates, 6),\n",
    "                      TimepointHours= round(data.TimepointHours, 5))\n",
    "    \n",
    "    #dtype coercion\n",
    "    data= data.astype({'Timepoint':'int32', 'NumberOfCells':'int32', 'NumberOfCellsContainingAggregates':'int32'})\n",
    "    \n",
    "    return data"
   ]
  },
  {
   "cell_type": "markdown",
   "id": "adec6a52-51b3-4d52-8195-3e532eb40e0c",
   "metadata": {},
   "source": [
    "* __from database__"
   ]
  },
  {
   "cell_type": "code",
   "execution_count": 14,
   "id": "5d4c1924-a5cd-415e-a65a-072de69b0b8f",
   "metadata": {
    "tags": []
   },
   "outputs": [],
   "source": [
    "def data_load_from_db(initial_timepoints_skipped, username=username, password=password, hostname=hostname, port=port):\n",
    "    \n",
    "    #mysql server connection\n",
    "    connection_string = f\"mysql+pymysql://{username}:{password}@{hostname}:{port}/hc_microscopy_data_v2\"\n",
    "    engine = create_engine(connection_string) \n",
    "    \n",
    "    #query to obtain the desired data\n",
    "    query = \"call p_ts_screen_first_round_all_data (%s)\"\n",
    "    param1= initial_timepoints_skipped\n",
    "    data= pd.read_sql(query, engine, params= (param1,))\n",
    "    \n",
    "    #unify the table layout with load 'from files'\n",
    "    data= data.iloc[:, 1:]\n",
    "    data.columns= ['Plate', 'Well', 'ORF', 'Gene', 'Mutation', 'Timepoint', 'TimepointMinutes', 'TimepointHours', 'NumberOfCells', 'NumberOfCellsContainingAggregates', 'PercentageOfCellsContainingAggregates', 'AverageNumberOfAggregatesPerCell', 'AverageSizeOfSingleAggregates']\n",
    "    data= data.sort_values(['Plate', 'Well', 'Timepoint'], ascending= True)\n",
    "    data=data.reset_index(drop= True)\n",
    "    \n",
    "    #unify 0/NaNs with load 'from files'\n",
    "    data= data.assign(AverageNumberOfAggregatesPerCell= np.where(data.PercentageOfCellsContainingAggregates.isna(), np.NaN, data.AverageNumberOfAggregatesPerCell),\n",
    "                      AverageSizeOfSingleAggregates= np.where(data.PercentageOfCellsContainingAggregates.isna(), np.NaN, data.AverageSizeOfSingleAggregates))\n",
    "    data= data.assign(AverageSizeOfSingleAggregates= np.where(data.PercentageOfCellsContainingAggregates== 0, np.NaN, data.AverageSizeOfSingleAggregates))\n",
    "    \n",
    "    #dtype coercion    \n",
    "    data= data.astype({'Timepoint':'int32', 'NumberOfCells':'int32', 'NumberOfCellsContainingAggregates':'int32'})\n",
    "    \n",
    "    return data"
   ]
  },
  {
   "cell_type": "markdown",
   "id": "df0073a4-4666-4cb6-8349-00d423427af7",
   "metadata": {},
   "source": [
    "* __data load__"
   ]
  },
  {
   "cell_type": "code",
   "execution_count": 16,
   "id": "5b708e92-7f9f-4c05-99b5-6cc803a91c6c",
   "metadata": {},
   "outputs": [],
   "source": [
    "# 'db' to load from mysql database, 'raw file' to load from a file\n",
    "def data_load(source):\n",
    "    if source=='db':\n",
    "        data= data_load_from_db(3)\n",
    "        return data\n",
    "    elif source=='raw file':\n",
    "        data= data_load_and_preprocess(strains, experimental_data, 6.5, 6.5, 3)\n",
    "        return data\n",
    "    else:\n",
    "        raise ValueError(f\"Invalid source input: '{source}'. Expected: 'db' or 'raw file'.\")"
   ]
  },
  {
   "cell_type": "code",
   "execution_count": 17,
   "id": "68e2b9c1-fbff-4027-87bf-de16cf1f79f5",
   "metadata": {},
   "outputs": [],
   "source": [
    "data= data_load('raw file')"
   ]
  },
  {
   "cell_type": "code",
   "execution_count": 18,
   "id": "97e62921-5a3e-449a-a49e-e7032bc0d1d8",
   "metadata": {},
   "outputs": [
    {
     "data": {
      "text/html": [
       "<div>\n",
       "<style scoped>\n",
       "    .dataframe tbody tr th:only-of-type {\n",
       "        vertical-align: middle;\n",
       "    }\n",
       "\n",
       "    .dataframe tbody tr th {\n",
       "        vertical-align: top;\n",
       "    }\n",
       "\n",
       "    .dataframe thead th {\n",
       "        text-align: right;\n",
       "    }\n",
       "</style>\n",
       "<table border=\"1\" class=\"dataframe\">\n",
       "  <thead>\n",
       "    <tr style=\"text-align: right;\">\n",
       "      <th></th>\n",
       "      <th>Plate</th>\n",
       "      <th>Well</th>\n",
       "      <th>ORF</th>\n",
       "      <th>Gene</th>\n",
       "      <th>Mutation</th>\n",
       "      <th>Timepoint</th>\n",
       "      <th>TimepointMinutes</th>\n",
       "      <th>TimepointHours</th>\n",
       "      <th>NumberOfCells</th>\n",
       "      <th>NumberOfCellsContainingAggregates</th>\n",
       "      <th>PercentageOfCellsContainingAggregates</th>\n",
       "      <th>AverageNumberOfAggregatesPerCell</th>\n",
       "      <th>AverageSizeOfSingleAggregates</th>\n",
       "    </tr>\n",
       "  </thead>\n",
       "  <tbody>\n",
       "    <tr>\n",
       "      <th>0</th>\n",
       "      <td>1A</td>\n",
       "      <td>A01</td>\n",
       "      <td>-</td>\n",
       "      <td>-</td>\n",
       "      <td>wt control</td>\n",
       "      <td>4</td>\n",
       "      <td>26.0</td>\n",
       "      <td>0.43333</td>\n",
       "      <td>27</td>\n",
       "      <td>3</td>\n",
       "      <td>11.1111</td>\n",
       "      <td>0.111111</td>\n",
       "      <td>0.221108</td>\n",
       "    </tr>\n",
       "    <tr>\n",
       "      <th>1</th>\n",
       "      <td>1A</td>\n",
       "      <td>A01</td>\n",
       "      <td>-</td>\n",
       "      <td>-</td>\n",
       "      <td>wt control</td>\n",
       "      <td>5</td>\n",
       "      <td>32.5</td>\n",
       "      <td>0.54167</td>\n",
       "      <td>24</td>\n",
       "      <td>5</td>\n",
       "      <td>20.8333</td>\n",
       "      <td>0.208333</td>\n",
       "      <td>0.192660</td>\n",
       "    </tr>\n",
       "    <tr>\n",
       "      <th>2</th>\n",
       "      <td>1A</td>\n",
       "      <td>A01</td>\n",
       "      <td>-</td>\n",
       "      <td>-</td>\n",
       "      <td>wt control</td>\n",
       "      <td>6</td>\n",
       "      <td>39.0</td>\n",
       "      <td>0.65000</td>\n",
       "      <td>26</td>\n",
       "      <td>9</td>\n",
       "      <td>34.6154</td>\n",
       "      <td>0.615385</td>\n",
       "      <td>0.187347</td>\n",
       "    </tr>\n",
       "    <tr>\n",
       "      <th>3</th>\n",
       "      <td>1A</td>\n",
       "      <td>A01</td>\n",
       "      <td>-</td>\n",
       "      <td>-</td>\n",
       "      <td>wt control</td>\n",
       "      <td>7</td>\n",
       "      <td>45.5</td>\n",
       "      <td>0.75833</td>\n",
       "      <td>25</td>\n",
       "      <td>7</td>\n",
       "      <td>28.0000</td>\n",
       "      <td>0.560000</td>\n",
       "      <td>0.197821</td>\n",
       "    </tr>\n",
       "    <tr>\n",
       "      <th>4</th>\n",
       "      <td>1A</td>\n",
       "      <td>A01</td>\n",
       "      <td>-</td>\n",
       "      <td>-</td>\n",
       "      <td>wt control</td>\n",
       "      <td>8</td>\n",
       "      <td>52.0</td>\n",
       "      <td>0.86667</td>\n",
       "      <td>22</td>\n",
       "      <td>12</td>\n",
       "      <td>54.5455</td>\n",
       "      <td>1.318182</td>\n",
       "      <td>0.223884</td>\n",
       "    </tr>\n",
       "  </tbody>\n",
       "</table>\n",
       "</div>"
      ],
      "text/plain": [
       "  Plate Well ORF Gene    Mutation  Timepoint  TimepointMinutes  \\\n",
       "0    1A  A01   -    -  wt control          4              26.0   \n",
       "1    1A  A01   -    -  wt control          5              32.5   \n",
       "2    1A  A01   -    -  wt control          6              39.0   \n",
       "3    1A  A01   -    -  wt control          7              45.5   \n",
       "4    1A  A01   -    -  wt control          8              52.0   \n",
       "\n",
       "   TimepointHours  NumberOfCells  NumberOfCellsContainingAggregates  \\\n",
       "0         0.43333             27                                  3   \n",
       "1         0.54167             24                                  5   \n",
       "2         0.65000             26                                  9   \n",
       "3         0.75833             25                                  7   \n",
       "4         0.86667             22                                 12   \n",
       "\n",
       "   PercentageOfCellsContainingAggregates  AverageNumberOfAggregatesPerCell  \\\n",
       "0                                11.1111                          0.111111   \n",
       "1                                20.8333                          0.208333   \n",
       "2                                34.6154                          0.615385   \n",
       "3                                28.0000                          0.560000   \n",
       "4                                54.5455                          1.318182   \n",
       "\n",
       "   AverageSizeOfSingleAggregates  \n",
       "0                       0.221108  \n",
       "1                       0.192660  \n",
       "2                       0.187347  \n",
       "3                       0.197821  \n",
       "4                       0.223884  "
      ]
     },
     "execution_count": 18,
     "metadata": {},
     "output_type": "execute_result"
    }
   ],
   "source": [
    "data.head()"
   ]
  },
  {
   "cell_type": "code",
   "execution_count": 19,
   "id": "9f270a38-c8f6-4a25-a608-4045c882fba6",
   "metadata": {},
   "outputs": [
    {
     "name": "stdout",
     "output_type": "stream",
     "text": [
      "<class 'pandas.core.frame.DataFrame'>\n",
      "Int64Index: 94031 entries, 0 to 94030\n",
      "Data columns (total 13 columns):\n",
      " #   Column                                 Non-Null Count  Dtype  \n",
      "---  ------                                 --------------  -----  \n",
      " 0   Plate                                  94031 non-null  object \n",
      " 1   Well                                   94031 non-null  object \n",
      " 2   ORF                                    94031 non-null  object \n",
      " 3   Gene                                   94031 non-null  object \n",
      " 4   Mutation                               94031 non-null  object \n",
      " 5   Timepoint                              94031 non-null  int32  \n",
      " 6   TimepointMinutes                       94031 non-null  float64\n",
      " 7   TimepointHours                         94031 non-null  float64\n",
      " 8   NumberOfCells                          94031 non-null  int32  \n",
      " 9   NumberOfCellsContainingAggregates      94031 non-null  int32  \n",
      " 10  PercentageOfCellsContainingAggregates  90923 non-null  float64\n",
      " 11  AverageNumberOfAggregatesPerCell       90923 non-null  float64\n",
      " 12  AverageSizeOfSingleAggregates          89512 non-null  float64\n",
      "dtypes: float64(5), int32(3), object(5)\n",
      "memory usage: 9.0+ MB\n"
     ]
    }
   ],
   "source": [
    "data.info()"
   ]
  },
  {
   "cell_type": "code",
   "execution_count": 20,
   "id": "8a6e17d3-032c-47d9-b821-ddcc423d9457",
   "metadata": {},
   "outputs": [
    {
     "data": {
      "text/html": [
       "<div>\n",
       "<style scoped>\n",
       "    .dataframe tbody tr th:only-of-type {\n",
       "        vertical-align: middle;\n",
       "    }\n",
       "\n",
       "    .dataframe tbody tr th {\n",
       "        vertical-align: top;\n",
       "    }\n",
       "\n",
       "    .dataframe thead th {\n",
       "        text-align: right;\n",
       "    }\n",
       "</style>\n",
       "<table border=\"1\" class=\"dataframe\">\n",
       "  <thead>\n",
       "    <tr style=\"text-align: right;\">\n",
       "      <th></th>\n",
       "      <th>Timepoint</th>\n",
       "      <th>TimepointMinutes</th>\n",
       "      <th>TimepointHours</th>\n",
       "      <th>NumberOfCells</th>\n",
       "      <th>NumberOfCellsContainingAggregates</th>\n",
       "      <th>PercentageOfCellsContainingAggregates</th>\n",
       "      <th>AverageNumberOfAggregatesPerCell</th>\n",
       "      <th>AverageSizeOfSingleAggregates</th>\n",
       "    </tr>\n",
       "  </thead>\n",
       "  <tbody>\n",
       "    <tr>\n",
       "      <th>count</th>\n",
       "      <td>94031.000000</td>\n",
       "      <td>94031.00000</td>\n",
       "      <td>94031.000000</td>\n",
       "      <td>94031.000000</td>\n",
       "      <td>94031.000000</td>\n",
       "      <td>90923.000000</td>\n",
       "      <td>90923.000000</td>\n",
       "      <td>89512.000000</td>\n",
       "    </tr>\n",
       "    <tr>\n",
       "      <th>mean</th>\n",
       "      <td>28.000000</td>\n",
       "      <td>182.00000</td>\n",
       "      <td>3.033333</td>\n",
       "      <td>127.283183</td>\n",
       "      <td>85.008604</td>\n",
       "      <td>64.402317</td>\n",
       "      <td>1.479781</td>\n",
       "      <td>0.349081</td>\n",
       "    </tr>\n",
       "    <tr>\n",
       "      <th>std</th>\n",
       "      <td>14.142211</td>\n",
       "      <td>91.92437</td>\n",
       "      <td>1.532073</td>\n",
       "      <td>84.725308</td>\n",
       "      <td>62.416971</td>\n",
       "      <td>18.818810</td>\n",
       "      <td>0.663653</td>\n",
       "      <td>0.082297</td>\n",
       "    </tr>\n",
       "    <tr>\n",
       "      <th>min</th>\n",
       "      <td>4.000000</td>\n",
       "      <td>26.00000</td>\n",
       "      <td>0.433330</td>\n",
       "      <td>0.000000</td>\n",
       "      <td>0.000000</td>\n",
       "      <td>0.000000</td>\n",
       "      <td>0.000000</td>\n",
       "      <td>0.025350</td>\n",
       "    </tr>\n",
       "    <tr>\n",
       "      <th>25%</th>\n",
       "      <td>16.000000</td>\n",
       "      <td>104.00000</td>\n",
       "      <td>1.733330</td>\n",
       "      <td>63.000000</td>\n",
       "      <td>38.000000</td>\n",
       "      <td>55.223900</td>\n",
       "      <td>1.003937</td>\n",
       "      <td>0.304005</td>\n",
       "    </tr>\n",
       "    <tr>\n",
       "      <th>50%</th>\n",
       "      <td>28.000000</td>\n",
       "      <td>182.00000</td>\n",
       "      <td>3.033330</td>\n",
       "      <td>116.000000</td>\n",
       "      <td>75.000000</td>\n",
       "      <td>68.613100</td>\n",
       "      <td>1.464286</td>\n",
       "      <td>0.352897</td>\n",
       "    </tr>\n",
       "    <tr>\n",
       "      <th>75%</th>\n",
       "      <td>40.000000</td>\n",
       "      <td>260.00000</td>\n",
       "      <td>4.333330</td>\n",
       "      <td>181.000000</td>\n",
       "      <td>121.000000</td>\n",
       "      <td>78.125000</td>\n",
       "      <td>1.945135</td>\n",
       "      <td>0.394188</td>\n",
       "    </tr>\n",
       "    <tr>\n",
       "      <th>max</th>\n",
       "      <td>52.000000</td>\n",
       "      <td>338.00000</td>\n",
       "      <td>5.633330</td>\n",
       "      <td>851.000000</td>\n",
       "      <td>436.000000</td>\n",
       "      <td>100.000000</td>\n",
       "      <td>5.000000</td>\n",
       "      <td>2.019550</td>\n",
       "    </tr>\n",
       "  </tbody>\n",
       "</table>\n",
       "</div>"
      ],
      "text/plain": [
       "          Timepoint  TimepointMinutes  TimepointHours  NumberOfCells  \\\n",
       "count  94031.000000       94031.00000    94031.000000   94031.000000   \n",
       "mean      28.000000         182.00000        3.033333     127.283183   \n",
       "std       14.142211          91.92437        1.532073      84.725308   \n",
       "min        4.000000          26.00000        0.433330       0.000000   \n",
       "25%       16.000000         104.00000        1.733330      63.000000   \n",
       "50%       28.000000         182.00000        3.033330     116.000000   \n",
       "75%       40.000000         260.00000        4.333330     181.000000   \n",
       "max       52.000000         338.00000        5.633330     851.000000   \n",
       "\n",
       "       NumberOfCellsContainingAggregates  \\\n",
       "count                       94031.000000   \n",
       "mean                           85.008604   \n",
       "std                            62.416971   \n",
       "min                             0.000000   \n",
       "25%                            38.000000   \n",
       "50%                            75.000000   \n",
       "75%                           121.000000   \n",
       "max                           436.000000   \n",
       "\n",
       "       PercentageOfCellsContainingAggregates  \\\n",
       "count                           90923.000000   \n",
       "mean                               64.402317   \n",
       "std                                18.818810   \n",
       "min                                 0.000000   \n",
       "25%                                55.223900   \n",
       "50%                                68.613100   \n",
       "75%                                78.125000   \n",
       "max                               100.000000   \n",
       "\n",
       "       AverageNumberOfAggregatesPerCell  AverageSizeOfSingleAggregates  \n",
       "count                      90923.000000                   89512.000000  \n",
       "mean                           1.479781                       0.349081  \n",
       "std                            0.663653                       0.082297  \n",
       "min                            0.000000                       0.025350  \n",
       "25%                            1.003937                       0.304005  \n",
       "50%                            1.464286                       0.352897  \n",
       "75%                            1.945135                       0.394188  \n",
       "max                            5.000000                       2.019550  "
      ]
     },
     "execution_count": 20,
     "metadata": {},
     "output_type": "execute_result"
    }
   ],
   "source": [
    "data.describe()"
   ]
  },
  {
   "cell_type": "markdown",
   "id": "4bfe91c1-0ffa-4c82-b6d7-74b69341aadf",
   "metadata": {},
   "source": [
    "-------------------------------------------------------------------------------------------"
   ]
  },
  {
   "cell_type": "markdown",
   "id": "20a887c8-e27a-465a-9682-558eaaa563e5",
   "metadata": {},
   "source": [
    "__Filtering based on cell counts (cc)__"
   ]
  },
  {
   "cell_type": "markdown",
   "id": "9f34479b-ff65-4aca-88fa-1717b7834245",
   "metadata": {},
   "source": [
    "* __cc-based filter__"
   ]
  },
  {
   "cell_type": "markdown",
   "id": "26332bc3-d6e3-46e7-808f-fdbdea89f0c5",
   "metadata": {},
   "source": [
    ">- _wells with cell count below the set threshold in the initital timepoint filtered out_"
   ]
  },
  {
   "cell_type": "code",
   "execution_count": 25,
   "id": "30062c36-3753-44d5-accf-c30089f7fd3f",
   "metadata": {
    "tags": []
   },
   "outputs": [],
   "source": [
    "def cell_count_filter(dataset, threshold= cell_count_threshold):\n",
    "    first_timepoint_cell_count_filter= list(dataset.loc[(dataset.Timepoint==dataset.Timepoint.min())&\n",
    "                                                        (dataset.NumberOfCells>=threshold), 'Well'])\n",
    "    dataset= dataset.loc[dataset.Well.isin(first_timepoint_cell_count_filter)]\n",
    "    return dataset"
   ]
  },
  {
   "cell_type": "code",
   "execution_count": 26,
   "id": "757839bc-9ab4-46f9-8780-63c6e63f353f",
   "metadata": {},
   "outputs": [],
   "source": [
    "data_cc_filtered= data.groupby('Plate').apply(lambda x: cell_count_filter(x)).reset_index(drop= True) #applying the filter on data from individual plates"
   ]
  },
  {
   "cell_type": "markdown",
   "id": "0e71fad3-4efe-42be-b2af-62b1d771c946",
   "metadata": {},
   "source": [
    "* __cc visualisation: plate-well-cc pivot, before and after filtering__"
   ]
  },
  {
   "cell_type": "markdown",
   "id": "6a7a0b64-32bc-48be-bb4a-e3efd15244b1",
   "metadata": {},
   "source": [
    ">- _initital timpoint cell counts before and after filtering_\n",
    ">- _below-threshold wells labelled with red_\n",
    ">- _wells removed from the data during filtering labeled with white_"
   ]
  },
  {
   "cell_type": "code",
   "execution_count": 29,
   "id": "be7f1867-e48c-4bad-934b-c01c28473afc",
   "metadata": {
    "tags": []
   },
   "outputs": [],
   "source": [
    "def cell_counts(original_dataset, cc_filtered_dataset, cc_threshold):\n",
    "    \n",
    "    nf_data= original_dataset.loc[(original_dataset.Timepoint==original_dataset.Timepoint.min())]\n",
    "    nf_data= nf_data.pivot_table(index= 'Well',\n",
    "                                 columns= 'Plate',\n",
    "                                 values= 'NumberOfCells')\n",
    "    f_data= cc_filtered_dataset.loc[(cc_filtered_dataset.Timepoint==cc_filtered_dataset.Timepoint.min())]\n",
    "    f_data= f_data.pivot_table(index= 'Well',\n",
    "                               columns= 'Plate',\n",
    "                               values= 'NumberOfCells')\n",
    "    \n",
    "    \n",
    "    fig, ax= plt.subplots(1, 2, figsize= (25, 25), constrained_layout= True)\n",
    "    cmap_above_thr = sns.color_palette([\"#ADD8E6\"])\n",
    "    cmap_below_thr = sns.color_palette([\"#FF474C\"])\n",
    "\n",
    "    sns.heatmap(nf_data,\n",
    "                ax= ax[0],\n",
    "                cmap= cmap_above_thr,\n",
    "                linewidths= .5,\n",
    "                linecolor= 'gray',\n",
    "                cbar= False,\n",
    "                annot= True,\n",
    "                fmt= '.0f',\n",
    "                mask= nf_data < cc_threshold)\n",
    "    sns.heatmap(nf_data,\n",
    "                ax= ax[0],\n",
    "                cmap= cmap_below_thr,\n",
    "                linewidths= .5,\n",
    "                linecolor= 'gray',\n",
    "                cbar= False,\n",
    "                annot= True,\n",
    "                fmt= '.0f',\n",
    "                mask= nf_data >= cc_threshold)\n",
    "    \n",
    "    sns.heatmap(f_data,\n",
    "                ax= ax[1],\n",
    "                cmap= cmap_above_thr,\n",
    "                linewidths= .5,\n",
    "                linecolor= 'gray',\n",
    "                cbar= False,\n",
    "                annot= True,\n",
    "                fmt= '.0f',\n",
    "                mask= f_data < cc_threshold)     \n",
    "                \n",
    "    ax[0].set_xlabel('Plate', fontsize= 12, weight= 'bold')\n",
    "    ax[0].set_ylabel('Well', fontsize= 12, weight= 'bold')\n",
    "    ax[0].set_xlim(0,len(nf_data.columns)+0.1)\n",
    "    ax[0].set_ylim(-0.10, len(nf_data))\n",
    "    ax[0].set_title('before cc filtering',\n",
    "                    fontsize= 12,\n",
    "                    weight= 'bold')\n",
    "    \n",
    "    ax[1].set_xlabel('Plate', fontsize= 12, weight= 'bold')\n",
    "    ax[1].set_ylabel('Well', fontsize= 12, weight= 'bold')\n",
    "    ax[1].set_xlim(0,len(f_data.columns)+0.1)\n",
    "    ax[1].set_ylim(-0.10, len(f_data))\n",
    "    ax[1].set_title('cc filtered',\n",
    "                    fontsize= 12,\n",
    "                    weight= 'bold');"
   ]
  },
  {
   "cell_type": "code",
   "execution_count": 30,
   "id": "d113105b-02dc-4d19-ac94-a284918668cc",
   "metadata": {},
   "outputs": [],
   "source": [
    "# cell_counts(data, data_cc_filtered, cell_count_threshold)"
   ]
  },
  {
   "cell_type": "markdown",
   "id": "687b1198-b08f-41b1-b8c1-29dd3481db2a",
   "metadata": {},
   "source": [
    "* __visualising the proportions of mutant/control wells remaining after cc-based filtering, for each plate__"
   ]
  },
  {
   "cell_type": "code",
   "execution_count": 32,
   "id": "2fd0482c-5b5b-4cc5-a02f-99290e4a696f",
   "metadata": {
    "tags": []
   },
   "outputs": [],
   "source": [
    "def perc_wells_remaining(original_dataset, cc_filtered_dataset):\n",
    "    #calculation\n",
    "    total_controls= original_dataset.loc[original_dataset.Mutation=='wt control', ['Plate', 'Well']].groupby('Plate').nunique().reset_index()\n",
    "    total_controls.columns= ['Plate', 'TotalControls']\n",
    "\n",
    "    analysed_controls= cc_filtered_dataset.loc[cc_filtered_dataset.Mutation=='wt control', ['Plate', 'Well']].groupby('Plate').nunique().reset_index()\n",
    "    analysed_controls.columns= ['Plate', 'AnalysedControls']\n",
    "\n",
    "    total_mutants= original_dataset.loc[original_dataset.Mutation!='wt control', ['Plate', 'Well']].groupby('Plate').nunique().reset_index()\n",
    "    total_mutants.columns= ['Plate', 'TotalMutants']\n",
    "\n",
    "    analysed_mutants= cc_filtered_dataset.loc[cc_filtered_dataset.Mutation!='wt control', ['Plate', 'Well']].groupby('Plate').nunique().reset_index()\n",
    "    analysed_mutants.columns= ['Plate', 'AnalysedMutants']\n",
    "\n",
    "    no_of_strains= total_controls.merge(analysed_controls, how= 'left', on= 'Plate').merge(total_mutants, how= 'left', on= 'Plate').merge(analysed_mutants, how= 'left', on= 'Plate')\n",
    "\n",
    "    no_of_strains= no_of_strains.assign(AnalysedControlPercentage= no_of_strains.AnalysedControls/no_of_strains.TotalControls*100,\n",
    "                                        AnalysedMutantsPercentage= no_of_strains.AnalysedMutants/no_of_strains.TotalMutants*100)\n",
    "\n",
    "    #visualisation\n",
    "    fig, ax= plt.subplots(figsize= (15,10))\n",
    "    x= list()\n",
    "    width= 0.35\n",
    "    for i, plate in enumerate(list(no_of_strains.Plate)):\n",
    "        a= i+1\n",
    "        control_value= no_of_strains.loc[no_of_strains.Plate==plate, 'AnalysedControlPercentage'].iloc[0]\n",
    "        mutant_value= no_of_strains.loc[no_of_strains.Plate==plate, 'AnalysedMutantsPercentage'].iloc[0]\n",
    "        ax.bar(a-width/2,\n",
    "               control_value,\n",
    "               width=width,\n",
    "               color= '#FF474C',\n",
    "               label= '% of control wells analysed',\n",
    "               edgecolor= 'black',\n",
    "               lw= .6)\n",
    "        ax.bar(a+width/2,\n",
    "               mutant_value,\n",
    "               width=width,\n",
    "               color= '#ADD8E6',\n",
    "               label= '% of mutant wells analysed',\n",
    "               edgecolor= 'black',\n",
    "               lw= .6)\n",
    "        x.append(a)\n",
    "\n",
    "    ax.set_xticks(x)\n",
    "    ax.set_xticklabels(no_of_strains.Plate)\n",
    "    ax.set_ylim(0,115)\n",
    "    ax.set_xlabel('Plate', weight= 'bold')\n",
    "    ax.set_ylabel('Percentage', weight= 'bold')\n",
    "    ax.set_title('Percentage of wells left for analysis after filtering',\n",
    "                 weight= 'bold')\n",
    "    ax.axhline(100, ls= '-', lw= .66, color= 'gray')\n",
    "    ax.axhline(70, ls= '--', lw= .66, color= 'gray')\n",
    "\n",
    "    legend_elements = [Patch(facecolor='#FF474C', label='control wells'),\n",
    "                       Patch(facecolor='#ADD8E6', alpha=0.5, label='mutant wells')]\n",
    "    plt.legend(handles=legend_elements,\n",
    "               frameon= False,\n",
    "               ncol= 2);"
   ]
  },
  {
   "cell_type": "code",
   "execution_count": 33,
   "id": "d990f01e-926c-4784-8862-ad8abf039ff7",
   "metadata": {},
   "outputs": [],
   "source": [
    "# perc_wells_remaining(data, data_cc_filtered)"
   ]
  },
  {
   "cell_type": "markdown",
   "id": "643b073b-1680-45d4-aced-ad75c0f3639f",
   "metadata": {},
   "source": [
    "-----------------------------------"
   ]
  },
  {
   "cell_type": "markdown",
   "id": "0eeea452-3011-42c5-82c2-cfaf3e5ac57a",
   "metadata": {},
   "source": [
    "__Filling potential missing values by linear interpolation__"
   ]
  },
  {
   "cell_type": "code",
   "execution_count": 36,
   "id": "9d0488e7-cf93-46e0-8fcd-42c2eb111abc",
   "metadata": {},
   "outputs": [],
   "source": [
    "def fillnan(dataset):\n",
    "    if dataset.isna().sum().sum() > 0:\n",
    "        print(f'{dataset.isna().sum().sum()} missing values filled in by linear interpolation')\n",
    "        dataset= dataset.interpolate(method= 'linear')\n",
    "        return dataset\n",
    "    else:\n",
    "        print('No missing values detected!')\n",
    "        return dataset"
   ]
  },
  {
   "cell_type": "code",
   "execution_count": 37,
   "id": "900adcb2-5250-47d9-928b-6ca5d663a21d",
   "metadata": {},
   "outputs": [
    {
     "name": "stdout",
     "output_type": "stream",
     "text": [
      "33 missing values filled in by linear interpolation\n"
     ]
    }
   ],
   "source": [
    "data_cc_filtered_nan_filled= fillnan(data_cc_filtered)"
   ]
  },
  {
   "cell_type": "markdown",
   "id": "b6ea9384-6f9a-4485-8b19-5ba260b6eb04",
   "metadata": {},
   "source": [
    "--------------------------------------------------------------------------------------------------------------------------------------------------------------------------"
   ]
  },
  {
   "cell_type": "markdown",
   "id": "3f86ab10-601c-4cb4-9546-685e2667a279",
   "metadata": {},
   "source": [
    "__Spliting 'control' and 'mutant' data__"
   ]
  },
  {
   "cell_type": "code",
   "execution_count": 40,
   "id": "1d18a83a-e012-4863-b348-fcdb8a6b98de",
   "metadata": {},
   "outputs": [],
   "source": [
    "control_data= data_cc_filtered_nan_filled.loc[data_cc_filtered_nan_filled.Mutation=='wt control'].reset_index(drop= True)\n",
    "# control_data"
   ]
  },
  {
   "cell_type": "code",
   "execution_count": 41,
   "id": "e80deb3e-2c55-4919-a19e-0a24a23d519e",
   "metadata": {},
   "outputs": [],
   "source": [
    "mutant_data= data_cc_filtered_nan_filled.loc[data_cc_filtered_nan_filled.Mutation!='wt control'].reset_index(drop= True)\n",
    "# mutant_data"
   ]
  },
  {
   "cell_type": "markdown",
   "id": "71979a1d-052b-4ec6-a939-1c7eabc0808f",
   "metadata": {},
   "source": [
    "------------------------------------------------------------------------------------------------------------------------------------------------------------------"
   ]
  },
  {
   "cell_type": "markdown",
   "id": "6c8b3807-5d71-402e-8da5-20ef87354c54",
   "metadata": {},
   "source": [
    "__Removing all the aux. controls from the mutant data__"
   ]
  },
  {
   "cell_type": "code",
   "execution_count": 44,
   "id": "b3743fc1-b5f1-4af0-928f-074f126057c9",
   "metadata": {},
   "outputs": [],
   "source": [
    "aux_mut_ctrls= ['arg5,6', 'ade5,7', 'lys5', 'trp2']"
   ]
  },
  {
   "cell_type": "code",
   "execution_count": 45,
   "id": "d3b8b4bf-db53-4d82-8091-527c710bf3b4",
   "metadata": {},
   "outputs": [],
   "source": [
    "mutant_data= mutant_data.loc[~mutant_data.Mutation.isin(aux_mut_ctrls)]"
   ]
  },
  {
   "cell_type": "markdown",
   "id": "1d51cf19-c59f-48fc-b6fa-d622f51a6454",
   "metadata": {},
   "source": [
    "-----------------------------------------------------------------------------------------------------"
   ]
  },
  {
   "cell_type": "markdown",
   "id": "f61da5e5-41c7-4350-b9c3-dafec6e2eeb6",
   "metadata": {},
   "source": [
    "__Exporting the mutant and control data__"
   ]
  },
  {
   "cell_type": "code",
   "execution_count": 48,
   "id": "b561c191-33ac-4f3c-b78b-bbb5230930fa",
   "metadata": {},
   "outputs": [],
   "source": [
    "# control_data.to_csv(r\"C:\\Users\\Jakub\\Desktop\\control_data.csv\")\n",
    "# mutant_data.to_csv(r\"C:\\Users\\Jakub\\Desktop\\mutant_data.csv\")"
   ]
  },
  {
   "cell_type": "markdown",
   "id": "faf3306e-e36d-43b7-83fc-08fcdb686ca9",
   "metadata": {},
   "source": [
    "------------------------------------------------------------"
   ]
  },
  {
   "cell_type": "markdown",
   "id": "8b4d6b37-63af-47d0-8e46-ace6783851cf",
   "metadata": {},
   "source": [
    "__Re-arranging control data: list of all values for particular Plate-Timepoint-Parameter (used later for statistical analysis: one-sample ttest)__"
   ]
  },
  {
   "cell_type": "code",
   "execution_count": 51,
   "id": "50be19a6-080b-49ea-90fc-6cf2c2cef0ec",
   "metadata": {},
   "outputs": [],
   "source": [
    "control_data_grouped= control_data.groupby(['Plate', 'Timepoint', 'TimepointHours', 'TimepointMinutes'])[['PercentageOfCellsContainingAggregates', 'AverageNumberOfAggregatesPerCell', 'AverageSizeOfSingleAggregates']].agg({'PercentageOfCellsContainingAggregates':list,\n",
    "                                                                                                                                                                                                                              'AverageNumberOfAggregatesPerCell':list,\n",
    "                                                                                                                                                                                                                              'AverageSizeOfSingleAggregates':list}).reset_index()\n",
    "control_data_grouped.columns= ['Plate', 'Timepoint', 'TimepointHours', 'TimepointMinutes', 'PercentageControlData', 'NumberControlData', 'SizeControlData']\n",
    "# control_data_grouped"
   ]
  },
  {
   "cell_type": "markdown",
   "id": "8535c305-6ccd-41c3-bb24-f111eccbf3c8",
   "metadata": {},
   "source": [
    "--------------------------------------------------------------------------------------------------------------"
   ]
  },
  {
   "cell_type": "markdown",
   "id": "65f8a720-9ecc-4159-be37-292ddd6ac12a",
   "metadata": {},
   "source": [
    "__Outlier removal__"
   ]
  },
  {
   "cell_type": "code",
   "execution_count": 54,
   "id": "ff8e3472-8e4c-464a-a562-1dccf2ba3764",
   "metadata": {
    "tags": []
   },
   "outputs": [],
   "source": [
    "def outlier_removal(data, z_threshold= 2, iqr_threshold= 1.5): #thresholds: +/-2 for Z-score, +/-1.5* for IQR\n",
    "    data= pd.DataFrame(data)\n",
    "    stat, p_value = stats.shapiro(data.iloc[:, 0]) #H0: data is normally distributed\n",
    "    if p_value > 0.05: #p-value above 0.05: can't reject H0, normal distribution\n",
    "        data= data.assign(ZScore= (data.iloc[:,0]-data.iloc[:,0].mean())/data.iloc[:,0].std())\n",
    "        data= data.loc[(data.ZScore<=z_threshold)&(data.ZScore>=-z_threshold)]\n",
    "        return list(data.iloc[:, 0])\n",
    "    else: #p-values below 0.05: reject H0, non-normal distribution\n",
    "        q3= np.quantile(data, 0.75)\n",
    "        q1= np.quantile(data, 0.25)\n",
    "        iqr= q3-q1\n",
    "        data= data.assign(WithinIQR= (data.iloc[:,0]>=q1-iqr_threshold*iqr)&(data.iloc[:,0]<=q3+iqr_threshold*iqr))\n",
    "        data= data.loc[data.WithinIQR==True]\n",
    "        return list(data.iloc[:, 0])"
   ]
  },
  {
   "cell_type": "code",
   "execution_count": 55,
   "id": "a93a18c6-5f03-4d5f-8cb7-ec4f7fbfab14",
   "metadata": {},
   "outputs": [],
   "source": [
    "control_data_grouped_cleaned= control_data_grouped.assign(PercentageControlData= control_data_grouped.PercentageControlData.apply(lambda x: outlier_removal(x)),\n",
    "                                                          NumberControlData= control_data_grouped.NumberControlData.apply(lambda x: outlier_removal(x)),\n",
    "                                                          SizeControlData= control_data_grouped.SizeControlData.apply(lambda x: outlier_removal(x)))\n",
    "# control_data_grouped_cleaned"
   ]
  },
  {
   "cell_type": "markdown",
   "id": "74f07a17-7a06-416e-a45e-78288240dcad",
   "metadata": {},
   "source": [
    "----------------------------------------------------"
   ]
  },
  {
   "cell_type": "markdown",
   "id": "12519503-3f2e-4ba3-9fc0-80ee9b1fe314",
   "metadata": {},
   "source": [
    "__Averaging control dataset__"
   ]
  },
  {
   "cell_type": "code",
   "execution_count": 58,
   "id": "74a1681b-d2ca-45db-a321-219f4aa24605",
   "metadata": {},
   "outputs": [],
   "source": [
    "def control_data_avg(ctrl_dataset):\n",
    "    #averaging list-based data\n",
    "    control_data= ctrl_dataset.assign(PercentageControlData= ctrl_dataset.PercentageControlData.apply(lambda x: np.mean(x)),\n",
    "                                      NumberControlData= ctrl_dataset.NumberControlData.apply(lambda x: np.mean(x)),\n",
    "                                      SizeControlData= ctrl_dataset.SizeControlData.apply(lambda x: np.mean(x)))\n",
    "\n",
    "    return control_data"
   ]
  },
  {
   "cell_type": "code",
   "execution_count": 59,
   "id": "2434494d-286b-41d2-a902-016d3dba9fcc",
   "metadata": {},
   "outputs": [],
   "source": [
    "#control data used later (see hit quantification)\n",
    "control_data_averaged_per_plate= control_data_avg(control_data_grouped_cleaned)\n",
    "# control_data_averaged_per_plate"
   ]
  },
  {
   "cell_type": "markdown",
   "id": "27648477-679b-420e-a7db-a84c95895df9",
   "metadata": {},
   "source": [
    "------------------------------------------------------------------------"
   ]
  },
  {
   "cell_type": "markdown",
   "id": "8f29efec-d86e-4c2b-a1b8-24c63bacc4e4",
   "metadata": {},
   "source": [
    "__Idetifying breakponts in scatter plot (number-size) to define timeranges for individual stages__"
   ]
  },
  {
   "cell_type": "code",
   "execution_count": 62,
   "id": "61af0204-5106-4517-81cc-8c0e5926f42b",
   "metadata": {},
   "outputs": [],
   "source": [
    "data_for_stage_identification= control_data_averaged_per_plate.loc[:, ['TimepointMinutes', 'NumberControlData', 'SizeControlData']] #selected columns from control data (averaged per plate)\n",
    "# data_for_breakpoints.head()"
   ]
  },
  {
   "cell_type": "code",
   "execution_count": 63,
   "id": "1f0f102e-8a97-4ae2-aca3-3bde8abc3124",
   "metadata": {},
   "outputs": [],
   "source": [
    "def stage_bins(data, step= 2, minimal_formation_length= 30, maximal_formation_end= 120, minimal_rf_length= 60, maximal_rf_end= 300):\n",
    "    \n",
    "    potential_formation_end= np.arange(data.TimepointMinutes.min() + minimal_formation_length, maximal_formation_end + step, step)\n",
    "    f_rf_end_combinations= [[x, i] for x in potential_formation_end for i in np.arange(x + minimal_rf_length, maximal_rf_end + step, step)]   \n",
    "    \n",
    "    break_points_df= pd.DataFrame(columns= ['f_end', 'rf_end', 'f_cc', 'rf_cc', 'c_cc']) #empty df\n",
    "    \n",
    "    for breakpoints in f_rf_end_combinations:\n",
    "        f_end= breakpoints[0]\n",
    "        rf_end= breakpoints[1]\n",
    "\n",
    "        formation_data= data.loc[data.TimepointMinutes <= f_end]\n",
    "        relocation_and_fusion_data= data.loc[(data.TimepointMinutes > f_end) & ((data.TimepointMinutes <= rf_end))]\n",
    "        clearance_data= data.loc[data.TimepointMinutes > rf_end]\n",
    "\n",
    "        formation_cc= round(formation_data.NumberControlData.corr(formation_data.SizeControlData, method= 'pearson', min_periods= 2), 2)\n",
    "        relocation_and_fusion_cc= round(relocation_and_fusion_data.NumberControlData.corr(relocation_and_fusion_data.SizeControlData, method= 'pearson', min_periods= 2), 2)    \n",
    "        clearance_cc= round(clearance_data.NumberControlData.corr(clearance_data.SizeControlData, method= 'pearson', min_periods= 2), 2)\n",
    "\n",
    "        single_row= pd.DataFrame([[f_end, rf_end, formation_cc, relocation_and_fusion_cc, clearance_cc]], columns= ['f_end', 'rf_end', 'f_cc', 'rf_cc', 'c_cc'])\n",
    "        break_points_df= pd.concat([break_points_df, single_row], axis= 0)\n",
    "    \n",
    "    # total_dev=∣x−1∣+∣x+1∣+∣x−1∣\n",
    "    break_points_df= break_points_df.assign(total_dev= np.abs(break_points_df.f_cc - 1) + np.abs(break_points_df.rf_cc + 1) + np.abs(break_points_df.c_cc - 1) )\n",
    "    \n",
    "    break_points_df= break_points_df.loc[break_points_df.total_dev==break_points_df.total_dev.min()]\n",
    "    \n",
    "    #average the timepoints (in case of multiple entries for the minimu total_dev)\n",
    "    break_points_df= break_points_df.loc[:, ['f_end', 'rf_end']].mean()\n",
    "    \n",
    "    stage_bins= [0, break_points_df.loc['f_end'], break_points_df.loc['rf_end'], 1000]\n",
    "    \n",
    "    return stage_bins"
   ]
  },
  {
   "cell_type": "code",
   "execution_count": 64,
   "id": "579b9e8a-35f4-4f7c-a30c-d84edee82367",
   "metadata": {},
   "outputs": [
    {
     "data": {
      "text/plain": [
       "[0, 62.0, 300.0, 1000]"
      ]
     },
     "execution_count": 64,
     "metadata": {},
     "output_type": "execute_result"
    }
   ],
   "source": [
    "stage_bins= stage_bins(data_for_stage_identification)\n",
    "stage_bins"
   ]
  },
  {
   "cell_type": "code",
   "execution_count": 65,
   "id": "196a7725-78f9-4f67-a9ad-6f469e9138b5",
   "metadata": {},
   "outputs": [],
   "source": [
    "def stages_visualisation(data, stage_bins):\n",
    "    \n",
    "    data= data.assign(Stage= pd.cut(data.TimepointMinutes,\n",
    "                                    bins= stage_bins,\n",
    "                                    labels= ['formation', 'relocation & fusion', 'clearance']))\n",
    "    \n",
    "\n",
    "    fig, ax= plt.subplots()\n",
    "\n",
    "    x= data.loc[data.Stage=='formation', 'NumberControlData']\n",
    "    y= data.loc[data.Stage=='formation', 'SizeControlData']\n",
    "    cc= round(x.corr(y, method= 'pearson', min_periods= 2), 2)\n",
    "    ax.scatter(x,\n",
    "                y,\n",
    "                edgecolor= 'black',\n",
    "                lw=.15,\n",
    "                color= '#DFE9F5',\n",
    "                label= f'formation, cc: {cc}')\n",
    "    m, b= np.polyfit(x, y, 1)\n",
    "    ax.plot(x, m*x+b,\n",
    "             color= '#00527C',\n",
    "             linewidth= 2.5)\n",
    "\n",
    "    x= data.loc[data.Stage=='relocation & fusion', 'NumberControlData']\n",
    "    y= data.loc[data.Stage=='relocation & fusion', 'SizeControlData']\n",
    "    cc= round(x.corr(y, method= 'pearson', min_periods= 2), 2)\n",
    "    ax.scatter(x,\n",
    "                y,\n",
    "                edgecolor= 'black',\n",
    "                lw=.15,\n",
    "                color= '#FEE7CC',\n",
    "                label= f'relocation & fusion, cc: {cc}')\n",
    "    m, b= np.polyfit(x, y, 1)\n",
    "    ax.plot(x, m*x+b,\n",
    "             color= '#FF781F',\n",
    "             linewidth= 2.5)\n",
    "\n",
    "    x= data.loc[data.Stage=='clearance', 'NumberControlData']\n",
    "    y= data.loc[data.Stage=='clearance', 'SizeControlData']\n",
    "    cc= round(x.corr(y, method= 'pearson', min_periods= 2), 2)\n",
    "    ax.scatter(x,\n",
    "                y,\n",
    "                edgecolor= 'black',\n",
    "                lw=.15,\n",
    "                color= '#D6FED2',\n",
    "                label= f'clearance, cc: {cc}')\n",
    "    m, b= np.polyfit(x, y, 1)\n",
    "    ax.plot(x, m*x+b,\n",
    "             color= '#0C8001',\n",
    "             linewidth= 2.5)\n",
    "    ax.legend(loc= 'lower right')"
   ]
  },
  {
   "cell_type": "code",
   "execution_count": 66,
   "id": "06780d49-f831-4a5d-b4bb-a156d4f5600b",
   "metadata": {},
   "outputs": [
    {
     "data": {
      "image/png": "[encoded data removed]",
      "text/plain": [
       "<Figure size 640x480 with 1 Axes>"
      ]
     },
     "metadata": {},
     "output_type": "display_data"
    }
   ],
   "source": [
    "stages_visualisation(data_for_stage_identification, stage_bins)"
   ]
  },
  {
   "cell_type": "markdown",
   "id": "338ba1be-5cc7-43a4-96ca-8d510e40c09d",
   "metadata": {},
   "source": [
    "-----------------------------------------------------------------------------------------------------"
   ]
  },
  {
   "cell_type": "markdown",
   "id": "1e003980-a1c2-4006-b8cd-630804cdac0f",
   "metadata": {},
   "source": [
    "__Adding stages to control dataset__"
   ]
  },
  {
   "cell_type": "code",
   "execution_count": 69,
   "id": "ffb93aab-bf8d-498c-9a60-cb6d423f3fc4",
   "metadata": {},
   "outputs": [],
   "source": [
    "def control_data_stages(ctrl_dataset, stage_bins):\n",
    "    #adding stage column\n",
    "    ctrl_dataset= ctrl_dataset.assign(Stages= pd.cut(ctrl_dataset.TimepointMinutes, \n",
    "                                                     bins= stage_bins,\n",
    "                                                     labels= ['Formation', 'Relocation & Fusion', 'Clearance']))\n",
    "    return ctrl_dataset"
   ]
  },
  {
   "cell_type": "code",
   "execution_count": 70,
   "id": "76349d09-6653-4d25-8862-8c483e75a29e",
   "metadata": {},
   "outputs": [],
   "source": [
    "#control data used later (see hit quantification)\n",
    "control_data_averaged_per_plate= control_data_stages(control_data_averaged_per_plate, stage_bins)\n",
    "# control_data_averaged_per_plate"
   ]
  },
  {
   "cell_type": "markdown",
   "id": "bf08fc20-e044-4e8f-be64-c732592c35ee",
   "metadata": {},
   "source": [
    "------------------------------------------------------------------------------------------"
   ]
  },
  {
   "cell_type": "markdown",
   "id": "531dae8d-3c29-4735-9b79-111a5c57d697",
   "metadata": {},
   "source": [
    "__Statistical analysis__"
   ]
  },
  {
   "cell_type": "markdown",
   "id": "15737696-2223-4b65-8fef-29e170a92c3b",
   "metadata": {},
   "source": [
    "* __one-sample t-test:__ mutant value of particular parameter and timepoint compared to all corresponding control values from a particular plate (and timepoint)"
   ]
  },
  {
   "cell_type": "code",
   "execution_count": 74,
   "id": "477cd486-5a8d-4e9d-808e-9b4190ca4195",
   "metadata": {
    "tags": []
   },
   "outputs": [],
   "source": [
    "def one_sample_ttest(mut_value, ctrl_values):\n",
    "    t_stat, p_value = stats.ttest_1samp(ctrl_values, mut_value)\n",
    "    return p_value\n",
    "\n",
    "def statistical_analysis(control_dataset, mutant_dataset, p_value_thr):\n",
    "    #merging ctrl and mut datasets\n",
    "    data= mutant_dataset.merge(control_dataset.loc[:, ['Plate', 'Timepoint', 'PercentageControlData', 'NumberControlData', 'SizeControlData']], how= 'left', on= ['Plate', 'Timepoint'])\n",
    "    #one-sample t-test for each parameter\n",
    "    data= data.assign(PercentagePValue= data.apply(lambda x: one_sample_ttest(x['PercentageOfCellsContainingAggregates'], x['PercentageControlData']), axis= 1),\n",
    "                      NumberPValue= data.apply(lambda y: one_sample_ttest(y['AverageNumberOfAggregatesPerCell'], y['NumberControlData']), axis= 1),\n",
    "                      SizePValue= data.apply(lambda z: one_sample_ttest(z['AverageSizeOfSingleAggregates'], z['SizeControlData']), axis= 1))\n",
    "    #assigning significance symbols\n",
    "    data= data.assign(PercentageSignificance= np.where(data.PercentagePValue<p_value_thr, '*', ''),\n",
    "                      NumberSignificance= np.where(data.NumberPValue<p_value_thr, '*', ''),\n",
    "                      SizeSignificance= np.where(data.SizePValue<p_value_thr, '*', ''))\n",
    "    \n",
    "    #dropping unnecessary columns, reordering the remaining columns\n",
    "    data= data.drop(['PercentageControlData', 'NumberControlData', 'SizeControlData', 'NumberOfCells', 'NumberOfCellsContainingAggregates'], axis=1)    \n",
    "    data= data.reindex(columns= ['Well', 'Plate', 'ORF','Mutation','Timepoint', 'TimepointHours', 'TimepointMinutes','PercentageOfCellsContainingAggregates','PercentagePValue', 'PercentageSignificance','AverageNumberOfAggregatesPerCell','NumberPValue', 'NumberSignificance','AverageSizeOfSingleAggregates','SizePValue', 'SizeSignificance'])    \n",
    "    \n",
    "    return data"
   ]
  },
  {
   "cell_type": "code",
   "execution_count": 75,
   "id": "3ebab335-dfc4-4c01-815c-5efc4276debf",
   "metadata": {},
   "outputs": [],
   "source": [
    "data= statistical_analysis(control_data_grouped_cleaned, mutant_data, p_value_threshold)"
   ]
  },
  {
   "cell_type": "markdown",
   "id": "01db8171-1cd1-4d10-98f3-449a9b986231",
   "metadata": {},
   "source": [
    "-----------------------------------------------------------------------------------------------------"
   ]
  },
  {
   "cell_type": "markdown",
   "id": "1cc6c0d9-1a76-439e-bfa6-9e2fbab1d91c",
   "metadata": {},
   "source": [
    "__Adding Stage column and MutantID column__"
   ]
  },
  {
   "cell_type": "code",
   "execution_count": 78,
   "id": "7cd56873-3733-4638-8c10-1ef91ba0cd66",
   "metadata": {},
   "outputs": [],
   "source": [
    "def add_stage_id_column(dataset, stage_bins):\n",
    "    ##assigning a unique identifier to every mutation based on mutation-plate-well (some mutations present in collection in multiple copies)\n",
    "    dataset= dataset.assign(MutationID= dataset.Mutation + '-' + dataset.Plate + '-' + dataset.Well)\n",
    "    \n",
    "    ##adding stage column\n",
    "    dataset= dataset.assign(Stage= pd.cut(dataset.TimepointMinutes, \n",
    "                                   bins= stage_bins,\n",
    "                                   labels= ['Formation', 'Relocation & Fusion', 'Clearance']))\n",
    "    return dataset"
   ]
  },
  {
   "cell_type": "code",
   "execution_count": 79,
   "id": "e3744489-0d02-42f9-8a2f-8e9286ddeb57",
   "metadata": {},
   "outputs": [],
   "source": [
    "data= add_stage_id_column(data, stage_bins)\n",
    "# data"
   ]
  },
  {
   "cell_type": "markdown",
   "id": "366b730c-5b70-45fa-8161-381823907131",
   "metadata": {},
   "source": [
    "--------------------------------------------------"
   ]
  },
  {
   "cell_type": "markdown",
   "id": "f52712e0-3338-4642-b36c-ed4db44f5408",
   "metadata": {},
   "source": [
    "__Selection of hits__"
   ]
  },
  {
   "cell_type": "markdown",
   "id": "97ed7604-b183-41e4-8807-034259319c5f",
   "metadata": {},
   "source": [
    "* __hit selection__"
   ]
  },
  {
   "cell_type": "code",
   "execution_count": 83,
   "id": "ecb8b713-5dcb-495c-a814-9a7da33249c8",
   "metadata": {
    "tags": []
   },
   "outputs": [],
   "source": [
    "#function returs pivot table mutant as index-stages as columns with True/False values, True if mutant differs significantly from the control in particular stage (based on a number of significantly different timepoints)/False if not\n",
    "#returns three table: indexed as [0] for selection based on percentage of cells containing aggregates/[1] for average number of aggregates per cell and [2] for average size of a single aggregate \n",
    "def hit_selection(dataset, stage_bins, perc_threshold_significance):\n",
    "    \n",
    "    ##calculating the threshold number of significantly different timepoints for each stage\n",
    "    stage_lenghts= pd.DataFrame({'Minutes':dataset.TimepointMinutes.unique()})\n",
    "    stage_lenghts= stage_lenghts.assign(Stage= pd.cut(stage_lenghts.Minutes, \n",
    "                                        bins= stage_bins,\n",
    "                                        labels= ['Formation', 'Relocation & Fusion', 'Clearance']))\n",
    "    #calculate the lenght of each stage (no of timepoints)\n",
    "    formation_length= len(stage_lenghts.loc[stage_lenghts.Stage=='Formation'])\n",
    "    rf_length= len(stage_lenghts.loc[stage_lenghts.Stage=='Relocation & Fusion'])\n",
    "    clearance= len(stage_lenghts.loc[stage_lenghts.Stage=='Clearance'])\n",
    "    #calculate the minimum number of significantly different timepoints (from corresponding WT) for a mutant to be considered a hit\n",
    "    formation_length_threshold= len(stage_lenghts.loc[stage_lenghts.Stage=='Formation'])*perc_threshold_significance\n",
    "    rf_length_threshold= len(stage_lenghts.loc[stage_lenghts.Stage=='Relocation & Fusion'])*perc_threshold_significance\n",
    "    clearance_threshold= len(stage_lenghts.loc[stage_lenghts.Stage=='Clearance'])*perc_threshold_significance\n",
    "    \n",
    "    ##hits based on percentage of cells containing aggregates/average size of a single aggregate and average nbumber of aggregates per cell\n",
    "    #calculating the number of significantly different timepoints for each mutant-stage\n",
    "    hits_percentage= dataset.loc[dataset.PercentageSignificance=='*', ['MutationID', 'Timepoint', 'PercentageSignificance', 'Stage']]\n",
    "    hits_percentage= hits_percentage.pivot_table(index= 'MutationID',\n",
    "                                                 columns= 'Stage',\n",
    "                                                 values= 'PercentageSignificance',\n",
    "                                                 aggfunc= 'count')\n",
    "    hits_number= dataset.loc[dataset.NumberSignificance=='*', ['MutationID', 'Timepoint', 'NumberSignificance', 'Stage']]\n",
    "    hits_number= hits_number.pivot_table(index= 'MutationID',\n",
    "                                         columns= 'Stage',\n",
    "                                         values= 'NumberSignificance',\n",
    "                                         aggfunc= 'count')\n",
    "    hits_size= dataset.loc[dataset.SizeSignificance=='*', ['MutationID', 'Timepoint', 'SizeSignificance', 'Stage']]\n",
    "    hits_size= hits_size.pivot_table(index= 'MutationID',\n",
    "                                     columns= 'Stage',\n",
    "                                     values= 'SizeSignificance',\n",
    "                                     aggfunc= 'count')\n",
    "    \n",
    "    #comparing to thresholds: results in a boolean table, True: mutant differs significantly in a particular stage, False: mutant does not differ significantly in a particular stage\n",
    "    hits_percentage_boolean= hits_percentage.copy()\n",
    "    hits_percentage_boolean['Formation']= hits_percentage_boolean['Formation']>= formation_length_threshold\n",
    "    hits_percentage_boolean['Relocation & Fusion']= hits_percentage_boolean['Relocation & Fusion']>= rf_length_threshold\n",
    "    hits_percentage_boolean['Clearance']= hits_percentage_boolean['Clearance']>= clearance_threshold\n",
    "    \n",
    "    hits_number_boolean= hits_number.copy()\n",
    "    hits_number_boolean['Formation']= hits_number_boolean['Formation']>= formation_length_threshold\n",
    "    hits_number_boolean['Relocation & Fusion']= hits_number_boolean['Relocation & Fusion']>= rf_length_threshold\n",
    "    hits_number_boolean['Clearance']= hits_number_boolean['Clearance']>= clearance_threshold\n",
    "\n",
    "    hits_size_boolean= hits_size.copy()\n",
    "    hits_size_boolean['Formation']= hits_size_boolean['Formation']>= formation_length_threshold\n",
    "    hits_size_boolean['Relocation & Fusion']= hits_size_boolean['Relocation & Fusion']>= rf_length_threshold\n",
    "    hits_size_boolean['Clearance']= hits_size_boolean['Clearance']>= clearance_threshold\n",
    "    \n",
    "    return hits_percentage_boolean, hits_number_boolean, hits_size_boolean"
   ]
  },
  {
   "cell_type": "code",
   "execution_count": 84,
   "id": "5e0effc1-5e7b-4a8c-90ef-d407ae4755a4",
   "metadata": {},
   "outputs": [],
   "source": [
    "hits_percentage= hit_selection(data, stage_bins, perc_sign_diff_timepoints_thre)[0]"
   ]
  },
  {
   "cell_type": "code",
   "execution_count": 85,
   "id": "39637a4c-b82a-40cd-825d-5bdaed8d6809",
   "metadata": {},
   "outputs": [],
   "source": [
    "hits_number= hit_selection(data, stage_bins, perc_sign_diff_timepoints_thre)[1]"
   ]
  },
  {
   "cell_type": "code",
   "execution_count": 86,
   "id": "6beee577-e393-4599-8f53-a170eb3a1376",
   "metadata": {},
   "outputs": [],
   "source": [
    "hits_size=  hit_selection(data, stage_bins, perc_sign_diff_timepoints_thre)[2]"
   ]
  },
  {
   "cell_type": "markdown",
   "id": "757143c8-65e3-4438-839a-91b67c3a06e9",
   "metadata": {},
   "source": [
    "* __hit selection visualisation__"
   ]
  },
  {
   "cell_type": "code",
   "execution_count": 88,
   "id": "e7507d97-d040-476b-8f53-10a597d4b219",
   "metadata": {
    "tags": []
   },
   "outputs": [],
   "source": [
    "def hits_visualisation(hits_prc, hits_no, hits_sz):\n",
    "\n",
    "    fig, ax= plt.subplots(1, 3, figsize=(12,300), constrained_layout= True)\n",
    "\n",
    "    cmap_hits_perc = sns.color_palette([\"blue\"])\n",
    "    cmap_nonhits_perc = sns.color_palette([\"white\"])\n",
    "\n",
    "    sns.heatmap(hits_prc,\n",
    "                ax= ax[0],\n",
    "                cmap= cmap_nonhits_perc,\n",
    "                linewidths= .5,\n",
    "                linecolor= 'gray',\n",
    "                cbar= False,\n",
    "                mask= hits_prc==True)\n",
    "    sns.heatmap(hits_prc,\n",
    "                ax= ax[0],\n",
    "                cmap= cmap_hits_perc,\n",
    "                linewidths= .5,\n",
    "                linecolor= 'gray',\n",
    "                cbar= False,\n",
    "                mask= hits_prc!=True)\n",
    "\n",
    "    ax[0].set_yticks(np.arange(len(hits_prc))+0.5)\n",
    "    ax[0].set_yticklabels(hits_prc.index, fontsize= 8)\n",
    "    ax[0].set_xticklabels(['Formation', 'Relocation\\n&\\nFusion', 'Clearance'], rotation= 0, fontsize= 8)\n",
    "    ax[0].set_xlabel('')\n",
    "    ax[0].set_ylabel('Mutant', fontsize= 10, weight= 'bold')\n",
    "    ax[0].set_xlim(0,3.1)\n",
    "    ax[0].set_ylim(-0.10, len(hits_prc))\n",
    "    ax[0].set_title('Hits based on:\\n\"Percentage of cells containing ≥ 1 agg.\"',\n",
    "                    fontsize= 9,\n",
    "                    weight= 'bold');\n",
    "\n",
    "\n",
    "    cmap_hits_perc = sns.color_palette([\"Red\"])\n",
    "    cmap_nonhits_perc = sns.color_palette([\"white\"])\n",
    "\n",
    "    sns.heatmap(hits_no,\n",
    "                ax= ax[1],\n",
    "                cmap= cmap_nonhits_perc,\n",
    "                linewidths= .5,\n",
    "                linecolor= 'gray',\n",
    "                cbar= False,\n",
    "                mask= hits_no==True)\n",
    "    sns.heatmap(hits_no,\n",
    "                ax= ax[1],\n",
    "                cmap= cmap_hits_perc,\n",
    "                linewidths= .5,\n",
    "                linecolor= 'gray',\n",
    "                cbar= False,\n",
    "                mask= hits_no!=True)\n",
    "\n",
    "    ax[1].set_yticks(np.arange(len(hits_no))+0.5)\n",
    "    ax[1].set_yticklabels(hits_no.index, fontsize= 8)\n",
    "    ax[1].set_xticklabels(['Formation', 'Relocation\\n&\\nFusion', 'Clearance'], rotation= 0, fontsize= 8)\n",
    "    ax[1].set_xlabel('Stage', fontsize= 10, weight= 'bold')\n",
    "    ax[1].set_ylabel('', fontsize= 10, weight= 'bold')\n",
    "    ax[1].set_xlim(0,3.1)\n",
    "    ax[1].set_ylim(-0.10, len(hits_no))\n",
    "    ax[1].set_title('Hits based on:\\n\"Avg. no. of agg. per cell.\"',\n",
    "                    fontsize= 9,\n",
    "                    weight= 'bold');\n",
    "\n",
    "\n",
    "    cmap_hits_perc = sns.color_palette([\"Purple\"])\n",
    "    cmap_nonhits_perc = sns.color_palette([\"white\"])\n",
    "\n",
    "    sns.heatmap(hits_sz,\n",
    "                ax= ax[2],\n",
    "                cmap= cmap_nonhits_perc,\n",
    "                linewidths= .5,\n",
    "                linecolor= 'gray',\n",
    "                cbar= False,\n",
    "                mask= hits_sz==True)\n",
    "    sns.heatmap(hits_sz,\n",
    "                ax= ax[2],\n",
    "                cmap= cmap_hits_perc,\n",
    "                linewidths= .5,\n",
    "                linecolor= 'gray',\n",
    "                cbar= False,\n",
    "                mask= hits_sz!=True)\n",
    "\n",
    "    ax[2].set_yticks(np.arange(len(hits_sz))+0.5)\n",
    "    ax[2].set_yticklabels(hits_sz.index, fontsize= 8)\n",
    "    ax[2].set_xticklabels(['Formation', 'Relocation\\n&\\nFusion', 'Clearance'], rotation= 0, fontsize= 8)\n",
    "    ax[2].set_xlabel('')\n",
    "    ax[2].set_ylabel('', fontsize= 10, weight= 'bold')\n",
    "    ax[2].set_xlim(0,3.1)\n",
    "    ax[2].set_ylim(-0.10, len(hits_sz))\n",
    "    ax[2].set_title('Hits based on:\\n\"Avg. size of a single agg.\"',\n",
    "                    fontsize= 9,\n",
    "                    weight= 'bold');"
   ]
  },
  {
   "cell_type": "code",
   "execution_count": 89,
   "id": "d0c1e7b2-a812-4d09-81d6-37a6bc08a057",
   "metadata": {
    "tags": []
   },
   "outputs": [],
   "source": [
    "# hits_visualisation(hits_percentage, hits_number, hits_size)"
   ]
  },
  {
   "cell_type": "markdown",
   "id": "1d3e756f-b812-4ac7-a881-ebcf4a9ed9d7",
   "metadata": {},
   "source": [
    "-----------------------------------------------------------------------------"
   ]
  },
  {
   "cell_type": "markdown",
   "id": "4312707f-be17-4e8b-9338-78a6f7c5de11",
   "metadata": {},
   "source": [
    "__Quantification of hits__\n",
    "* __average difference (wt control - mutant) in particular stage__"
   ]
  },
  {
   "cell_type": "markdown",
   "id": "20e6f703-0c82-4319-9874-1c6514ebed04",
   "metadata": {},
   "source": [
    "* __hit quantification__"
   ]
  },
  {
   "cell_type": "code",
   "execution_count": 93,
   "id": "c8243fc7-859e-43fd-92c0-1bc23b951ec4",
   "metadata": {
    "tags": []
   },
   "outputs": [],
   "source": [
    "#function returs pivot table mutant as index-stages as columns with quantified average difference from corresponding wt control in particular stage for particular mutant \n",
    "#returns three table: indexed as [0] for quantification based on percentage of cells containing aggregates/[1] for quantification based on average number of aggregates per cell and [2] for quantification based on average size of a single aggregate \n",
    "def hit_quantification(dataset, control_dataset, stage_bins, hits_prc, hits_no, hits_sz):\n",
    "    \n",
    "    ##extracting hits from each parameter (mutants that differ significantly from the control in at least one stage)\n",
    "    #sum of True values across rows/stages\n",
    "    percentage= hits_prc.assign(Hit= hits_prc.sum(axis= 1))\n",
    "    number= hits_no.assign(Hit= hits_no.sum(axis=1))\n",
    "    size= hits_sz.assign(Hit= hits_sz.sum(axis=1))\n",
    "    \n",
    "    #selecting the mutants that have at least one 'True' (sum > 0)\n",
    "    percentage_hit_list= list(percentage.loc[percentage.Hit>0].index)\n",
    "    number_hit_list= list(number.loc[number.Hit>0].index)\n",
    "    size_hit_list= list(size.loc[size.Hit>0].index)\n",
    "    \n",
    "    #removing the extra ('Hit') column from the hit boolean tables\n",
    "    percentage= percentage.iloc[:, :-1]\n",
    "    number= number.iloc[:, :-1]\n",
    "    size= size.iloc[:, :-1]\n",
    "    \n",
    "    ###quantification: average difference between mutant and wt control in particular stage\n",
    "    \n",
    "    ##percentage\n",
    "    perc_data_quant= dataset.loc[dataset.MutationID.isin(percentage_hit_list), ['Plate', 'MutationID', 'Stage', 'Timepoint', 'PercentageOfCellsContainingAggregates']]\n",
    "    \n",
    "    perc_ctrl_quant= control_dataset.loc[:, ['Plate', 'Stages', 'Timepoint', 'PercentageControlData']]\n",
    "    perc_ctrl_quant.columns= ['Plate', 'Stage', 'Timepoint', 'PercentageControlData']\n",
    "    \n",
    "    perc_data_quant= perc_data_quant.merge(perc_ctrl_quant, how= 'left', on= ['Plate', 'Stage', 'Timepoint']) #connecting to a corresponding control data\n",
    "    \n",
    "    perc_data_quant= perc_data_quant.assign(ControlMinusMutant= perc_data_quant.PercentageControlData - perc_data_quant.PercentageOfCellsContainingAggregates) #differences in individual timepoints\n",
    "    perc_data_quant= perc_data_quant.groupby(['MutationID', 'Stage'])[['ControlMinusMutant']].mean().reset_index() #avg differences per stage\n",
    "    perc_data_quant= perc_data_quant.pivot_table(index= 'MutationID', #pivot\n",
    "                                             columns= 'Stage',\n",
    "                                             values= 'ControlMinusMutant')\n",
    "    perc_data_quant= perc_data_quant.reindex(columns= ['Formation', 'Relocation & Fusion', 'Clearance'])\n",
    "    \n",
    "    #replacing the non-hit mutation-stage with NaN\n",
    "    nan_filter_percentage= percentage.loc[percentage.index.isin(percentage_hit_list)] \n",
    "    nan_filter_percentage= nan_filter_percentage==False\n",
    "    perc_data_quant[nan_filter_percentage]= np.NaN\n",
    "    \n",
    "    ##number of agg\n",
    "    no_data_quant= dataset.loc[dataset.MutationID.isin(number_hit_list), ['Plate', 'MutationID', 'Stage', 'Timepoint', 'AverageNumberOfAggregatesPerCell']]\n",
    "    \n",
    "    no_ctrl_quant= control_dataset.loc[:, ['Plate', 'Stages', 'Timepoint', 'NumberControlData']]\n",
    "    no_ctrl_quant.columns= ['Plate', 'Stage', 'Timepoint', 'NumberControlData']\n",
    "    \n",
    "    no_data_quant= no_data_quant.merge(no_ctrl_quant, how= 'left', on= ['Plate', 'Stage', 'Timepoint']) #connecting to a corresponding control data\n",
    "    \n",
    "    no_data_quant= no_data_quant.assign(ControlMinusMutant= no_data_quant.NumberControlData - no_data_quant.AverageNumberOfAggregatesPerCell) #differences in individual timepoints\n",
    "    no_data_quant= no_data_quant.groupby(['MutationID', 'Stage'])[['ControlMinusMutant']].mean().reset_index() #avg differences per stage\n",
    "    no_data_quant= no_data_quant.pivot_table(index= 'MutationID', #pivot\n",
    "                                             columns= 'Stage',\n",
    "                                             values= 'ControlMinusMutant')\n",
    "    no_data_quant= no_data_quant.reindex(columns= ['Formation', 'Relocation & Fusion', 'Clearance'])\n",
    "    \n",
    "    #replacing the non-hit mutation-stage with NaN\n",
    "    nan_filter_no= number.loc[number.index.isin(number_hit_list)] \n",
    "    nan_filter_no= nan_filter_no==False\n",
    "    no_data_quant[nan_filter_no]= np.NaN\n",
    "    \n",
    "    ##agg size\n",
    "    size_data_quant= dataset.loc[dataset.MutationID.isin(size_hit_list), ['Plate', 'MutationID', 'Stage', 'Timepoint', 'AverageSizeOfSingleAggregates']]\n",
    "    \n",
    "    size_ctrl_quant= control_dataset.loc[:, ['Plate', 'Stages', 'Timepoint', 'SizeControlData']]\n",
    "    size_ctrl_quant.columns= ['Plate', 'Stage', 'Timepoint', 'SizeControlData']\n",
    "    \n",
    "    size_data_quant= size_data_quant.merge(size_ctrl_quant, how= 'left', on= ['Plate', 'Stage', 'Timepoint']) #connecting to a corresponding control data\n",
    "    \n",
    "    size_data_quant= size_data_quant.assign(ControlMinusMutant= size_data_quant.SizeControlData - size_data_quant.AverageSizeOfSingleAggregates) #differences in individual timepoints\n",
    "    size_data_quant= size_data_quant.groupby(['MutationID', 'Stage'])[['ControlMinusMutant']].mean().reset_index() #avg differences per stage\n",
    "    size_data_quant= size_data_quant.pivot_table(index= 'MutationID', #pivot\n",
    "                                                 columns= 'Stage',\n",
    "                                                 values= 'ControlMinusMutant')\n",
    "    size_data_quant= size_data_quant.reindex(columns= ['Formation', 'Relocation & Fusion', 'Clearance'])\n",
    "    \n",
    "    #replacing the non-hit mutation-stage with NaN\n",
    "    nan_filter_size= size.loc[size.index.isin(size_hit_list)] \n",
    "    nan_filter_size= nan_filter_size==False\n",
    "    size_data_quant[nan_filter_size]= np.NaN\n",
    "    \n",
    "    return perc_data_quant, no_data_quant, size_data_quant"
   ]
  },
  {
   "cell_type": "code",
   "execution_count": 94,
   "id": "4fc3e3d6-73d6-4189-8dc6-f57e3cc3aa3b",
   "metadata": {},
   "outputs": [],
   "source": [
    "quantification_percentage= hit_quantification(data, control_data_averaged_per_plate, stage_bins, hits_percentage, hits_number, hits_size)[0]\n",
    "# quantification_percentage"
   ]
  },
  {
   "cell_type": "code",
   "execution_count": 95,
   "id": "5ee60acb-afe5-473f-bd12-2ff64c8266d7",
   "metadata": {},
   "outputs": [],
   "source": [
    "quantification_number= hit_quantification(data, control_data_averaged_per_plate, stage_bins, hits_percentage, hits_number, hits_size)[1]\n",
    "# quantification_number"
   ]
  },
  {
   "cell_type": "code",
   "execution_count": 96,
   "id": "5b673ec1-b179-4db6-a7f9-cede810a911e",
   "metadata": {},
   "outputs": [],
   "source": [
    "quantification_size= hit_quantification(data, control_data_averaged_per_plate, stage_bins, hits_percentage, hits_number, hits_size)[2]\n",
    "# quantification_size"
   ]
  },
  {
   "cell_type": "markdown",
   "id": "b8466d86-9896-400d-8ce1-6cdf7cc534db",
   "metadata": {},
   "source": [
    "* __hit quantification visualisation__"
   ]
  },
  {
   "cell_type": "code",
   "execution_count": 98,
   "id": "6d0241a1-1a39-481e-91d3-be80d5a79432",
   "metadata": {
    "tags": []
   },
   "outputs": [],
   "source": [
    "def hit_quant_vis(qt_perc, qt_no, qt_sz):    \n",
    "    fig, ax= plt.subplots(1, 3, figsize=(12,100), constrained_layout= True)\n",
    "\n",
    "    cmap_positive = sns.color_palette([\"#ADD8E6\"])\n",
    "    cmap_negative = sns.color_palette([\"#FF474C\"])\n",
    "\n",
    "    sns.heatmap(qt_perc,\n",
    "                ax= ax[0],\n",
    "                cmap= cmap_positive,\n",
    "                linewidths= .5,\n",
    "                linecolor= 'gray',\n",
    "                cbar= False,\n",
    "                annot= True,\n",
    "                fmt= '.3f',\n",
    "                mask= qt_perc<0)\n",
    "    sns.heatmap(qt_perc,\n",
    "                ax= ax[0],\n",
    "                cmap= cmap_negative,\n",
    "                linewidths= .5,\n",
    "                linecolor= 'gray',\n",
    "                cbar= False,\n",
    "                annot= True,\n",
    "                fmt= '.3f',\n",
    "                mask= qt_perc>0)\n",
    "\n",
    "    ax[0].set_yticks(np.arange(len(qt_perc))+0.5)\n",
    "    ax[0].set_yticklabels(qt_perc.index, fontsize= 8)\n",
    "    ax[0].set_xticklabels(['Formation', 'Relocation\\n&\\nFusion', 'Clearance'], rotation= 0, fontsize= 8)\n",
    "    ax[0].set_xlabel('')\n",
    "    ax[0].set_ylabel('Mutant', fontsize= 10, weight= 'bold')\n",
    "    ax[0].set_xlim(0,3.1)\n",
    "    ax[0].set_ylim(-0.10, len(qt_perc))\n",
    "    ax[0].set_title('Hits based on:\\n\"Percentage of cells containing ≥ 1 agg.\"',\n",
    "                    fontsize= 9,\n",
    "                    weight= 'bold');\n",
    "\n",
    "\n",
    "    sns.heatmap(qt_no,\n",
    "                ax= ax[1],\n",
    "                cmap= cmap_positive,\n",
    "                linewidths= .5,\n",
    "                linecolor= 'gray',\n",
    "                cbar= False,\n",
    "                annot= True,\n",
    "                fmt= '.3f',\n",
    "                mask= qt_no<0)\n",
    "    sns.heatmap(qt_no,\n",
    "                ax= ax[1],\n",
    "                cmap= cmap_negative,\n",
    "                linewidths= .5,\n",
    "                linecolor= 'gray',\n",
    "                cbar= False,\n",
    "                annot= True,\n",
    "                fmt= '.3f',\n",
    "                mask= qt_no>0)\n",
    "\n",
    "    ax[1].set_yticks(np.arange(len(qt_no))+0.5)\n",
    "    ax[1].set_yticklabels(qt_no.index, fontsize= 8)\n",
    "    ax[1].set_xticklabels(['Formation', 'Relocation\\n&\\nFusion', 'Clearance'], rotation= 0, fontsize= 8)\n",
    "    ax[1].set_xlabel('')\n",
    "    ax[1].set_ylabel('Mutant', fontsize= 10, weight= 'bold')\n",
    "    ax[1].set_xlim(0,3.1)\n",
    "    ax[1].set_ylim(-0.10, len(qt_no))\n",
    "    ax[1].set_title('Hits based on:\\n\"Avg. no. of agg. per cell\"',\n",
    "                    fontsize= 9,\n",
    "                    weight= 'bold');\n",
    "\n",
    "\n",
    "    sns.heatmap(qt_sz,\n",
    "                ax= ax[2],\n",
    "                cmap= cmap_positive,\n",
    "                linewidths= .5,\n",
    "                linecolor= 'gray',\n",
    "                cbar= False,\n",
    "                annot= True,\n",
    "                fmt= '.3f',\n",
    "                mask= qt_sz<0)\n",
    "    sns.heatmap(qt_sz,\n",
    "                ax= ax[2],\n",
    "                cmap= cmap_negative,\n",
    "                linewidths= .5,\n",
    "                linecolor= 'gray',\n",
    "                cbar= False,\n",
    "                annot= True,\n",
    "                fmt= '.3f',\n",
    "                mask= qt_sz>0)\n",
    "\n",
    "    ax[2].set_yticks(np.arange(len(qt_sz))+0.5)\n",
    "    ax[2].set_yticklabels(qt_sz.index, fontsize= 8)\n",
    "    ax[2].set_xticklabels(['Formation', 'Relocation\\n&\\nFusion', 'Clearance'], rotation= 0, fontsize= 8)\n",
    "    ax[2].set_xlabel('')\n",
    "    ax[2].set_ylabel('Mutant', fontsize= 10, weight= 'bold')\n",
    "    ax[2].set_xlim(0,3.1)\n",
    "    ax[2].set_ylim(-0.10, len(qt_sz))\n",
    "    ax[2].set_title('Hits based on:\\n\"Avg. size of a single agg.\"',\n",
    "                    fontsize= 9,\n",
    "                    weight= 'bold');"
   ]
  },
  {
   "cell_type": "code",
   "execution_count": 99,
   "id": "a9d915cd-505c-4724-90a7-cac80955f851",
   "metadata": {
    "tags": []
   },
   "outputs": [],
   "source": [
    "# hit_quant_vis(quantification_percentage, quantification_number, quantification_size)"
   ]
  },
  {
   "cell_type": "markdown",
   "id": "32ba01c3-041d-4670-a072-999e09065979",
   "metadata": {},
   "source": [
    "----------------------------------------------------------"
   ]
  },
  {
   "cell_type": "markdown",
   "id": "d877fa9f-571d-4aa2-99f8-4a097341b8fd",
   "metadata": {},
   "source": [
    "__Identification of the hit-groups__"
   ]
  },
  {
   "cell_type": "markdown",
   "id": "6376ec70-0184-4174-9b3f-1e75e743d5e7",
   "metadata": {},
   "source": [
    "* __Reference group__"
   ]
  },
  {
   "cell_type": "code",
   "execution_count": 103,
   "id": "c8c409f8-2996-4303-b54a-fa33457cd37f",
   "metadata": {},
   "outputs": [],
   "source": [
    "# all analysed proteins/genes (after filtering): control group for STRING database\n",
    "def reference_group(mutant_dataset):\n",
    "    reference_group_list= [x.split('-')[0].upper() for x in list(mutant_dataset.Mutation.unique())]\n",
    "    \n",
    "    reference_group= mutant_data.loc[mutant_data.Gene.isin(pd.Series(reference_group_list).drop_duplicates().sort_values(ignore_index= True)), ['ORF', 'Gene']].drop_duplicates().sort_values('Gene').reset_index(drop= True) \n",
    "    reference_group= reference_group.assign(Gene= reference_group.Gene.apply(lambda x: x.split(' ')[0]))\n",
    "    \n",
    "    return reference_group"
   ]
  },
  {
   "cell_type": "code",
   "execution_count": 216,
   "id": "fbca4d65-5a05-4d8f-8b26-d82566cc2f6a",
   "metadata": {},
   "outputs": [],
   "source": [
    "# reference_group(data).to_excel(r\"C:\\Users\\Jakub\\Desktop\\clusters\\reference_group.xlsx\")"
   ]
  },
  {
   "cell_type": "code",
   "execution_count": 214,
   "id": "dfbd3b88-9e46-42ca-8fb0-db6805199d84",
   "metadata": {},
   "outputs": [
    {
     "data": {
      "text/html": [
       "<div>\n",
       "<style scoped>\n",
       "    .dataframe tbody tr th:only-of-type {\n",
       "        vertical-align: middle;\n",
       "    }\n",
       "\n",
       "    .dataframe tbody tr th {\n",
       "        vertical-align: top;\n",
       "    }\n",
       "\n",
       "    .dataframe thead th {\n",
       "        text-align: right;\n",
       "    }\n",
       "</style>\n",
       "<table border=\"1\" class=\"dataframe\">\n",
       "  <thead>\n",
       "    <tr style=\"text-align: right;\">\n",
       "      <th></th>\n",
       "      <th>ORF</th>\n",
       "      <th>Gene</th>\n",
       "    </tr>\n",
       "  </thead>\n",
       "  <tbody>\n",
       "    <tr>\n",
       "      <th>0</th>\n",
       "      <td>YBR236C</td>\n",
       "      <td>ABD1</td>\n",
       "    </tr>\n",
       "    <tr>\n",
       "      <th>1</th>\n",
       "      <td>YKL112W</td>\n",
       "      <td>ABF1</td>\n",
       "    </tr>\n",
       "    <tr>\n",
       "      <th>2</th>\n",
       "      <td>YFL039C</td>\n",
       "      <td>ACT1</td>\n",
       "    </tr>\n",
       "    <tr>\n",
       "      <th>3</th>\n",
       "      <td>YLR397C</td>\n",
       "      <td>AFG2</td>\n",
       "    </tr>\n",
       "    <tr>\n",
       "      <th>4</th>\n",
       "      <td>YOR335C</td>\n",
       "      <td>ALA1</td>\n",
       "    </tr>\n",
       "    <tr>\n",
       "      <th>...</th>\n",
       "      <td>...</td>\n",
       "      <td>...</td>\n",
       "    </tr>\n",
       "    <tr>\n",
       "      <th>461</th>\n",
       "      <td>YGR172C</td>\n",
       "      <td>YIP1</td>\n",
       "    </tr>\n",
       "    <tr>\n",
       "      <th>462</th>\n",
       "      <td>YFL038C</td>\n",
       "      <td>YPT1</td>\n",
       "    </tr>\n",
       "    <tr>\n",
       "      <th>463</th>\n",
       "      <td>YDR002W</td>\n",
       "      <td>YRB1</td>\n",
       "    </tr>\n",
       "    <tr>\n",
       "      <th>464</th>\n",
       "      <td>YOR272W</td>\n",
       "      <td>YTM1</td>\n",
       "    </tr>\n",
       "    <tr>\n",
       "      <th>465</th>\n",
       "      <td>YGR211W</td>\n",
       "      <td>ZPR1</td>\n",
       "    </tr>\n",
       "  </tbody>\n",
       "</table>\n",
       "<p>466 rows × 2 columns</p>\n",
       "</div>"
      ],
      "text/plain": [
       "         ORF  Gene\n",
       "0    YBR236C  ABD1\n",
       "1    YKL112W  ABF1\n",
       "2    YFL039C  ACT1\n",
       "3    YLR397C  AFG2\n",
       "4    YOR335C  ALA1\n",
       "..       ...   ...\n",
       "461  YGR172C  YIP1\n",
       "462  YFL038C  YPT1\n",
       "463  YDR002W  YRB1\n",
       "464  YOR272W  YTM1\n",
       "465  YGR211W  ZPR1\n",
       "\n",
       "[466 rows x 2 columns]"
      ]
     },
     "execution_count": 214,
     "metadata": {},
     "output_type": "execute_result"
    }
   ],
   "source": [
    "reference_group(data)"
   ]
  },
  {
   "cell_type": "markdown",
   "id": "a3beb181-55b9-4b02-825a-b525377078e7",
   "metadata": {},
   "source": [
    "------------------------------------------------------------------------------------------------"
   ]
  },
  {
   "cell_type": "markdown",
   "id": "04491de9-7900-41e2-a44f-e5de234d67eb",
   "metadata": {},
   "source": [
    "* __Decrease in aggregate formation__"
   ]
  },
  {
   "cell_type": "code",
   "execution_count": 107,
   "id": "03f17c34-4a3b-4253-8dfe-90f7f0ec954b",
   "metadata": {},
   "outputs": [],
   "source": [
    "# unique list of genes, mutation of which leads to a lower percentage, size and number (intersection) of aggregates in the formation stage\n",
    "def decreased_agg_formation(perc_qt, number_qt, size_qt):\n",
    "\n",
    "    l1= set(list(perc_qt.loc[perc_qt.Formation>0].index)) #lower percentage in 'Formation' stage\n",
    "    l2= set(list(number_qt.loc[number_qt.Formation>0].index)) #lower number in 'Formation' stage\n",
    "    l3= set(list(size_qt.loc[size_qt.Formation>0].index)) #lower size in 'Formation' stage\n",
    "\n",
    "    group= list(l1.intersection(l2).intersection(l3)) #intersection\n",
    "    group= pd.Series(list(set([i.split('-')[0].upper() for i in group]))).sort_values(ignore_index= True) #unique pandas series\n",
    "    \n",
    "    hits= mutant_data.loc[mutant_data.Gene.isin(group), ['ORF', 'Gene']].drop_duplicates().sort_values('Gene').reset_index(drop= True)  \n",
    "    hits= hits.assign(Gene= hits.Gene.apply(lambda x: x.split(' ')[0]))\n",
    "    \n",
    "    return hits"
   ]
  },
  {
   "cell_type": "code",
   "execution_count": 220,
   "id": "c447ed16-8f16-46d6-b42c-ef33b300ded3",
   "metadata": {},
   "outputs": [],
   "source": [
    "decreased_formation= decreased_agg_formation(quantification_percentage, quantification_number, quantification_size)\n",
    "# decreased_formation.to_excel(r\"C:\\Users\\Jakub\\Desktop\\clusters\\hit_lists\\decreased_formation.xlsx\")"
   ]
  },
  {
   "cell_type": "code",
   "execution_count": 109,
   "id": "f351da70-1ff4-4c50-83aa-b1a2856a345f",
   "metadata": {},
   "outputs": [
    {
     "name": "stdout",
     "output_type": "stream",
     "text": [
      "ABF1\n",
      "ACT1\n",
      "ASK1\n",
      "BRL1\n",
      "CDC11\n",
      "CDC14\n",
      "CDC28\n",
      "CDC34\n",
      "CDC37\n",
      "CDC48\n",
      "CEF1\n",
      "CKS1\n",
      "CMD1\n",
      "DBP5\n",
      "DED1\n",
      "DIM1\n",
      "EBP2\n",
      "ESS1\n",
      "IMP4\n",
      "KIN28\n",
      "MAK11\n",
      "MED7\n",
      "MET30\n",
      "MGE1\n",
      "MIF2\n",
      "MSS4\n",
      "MTR3\n",
      "MTW1\n",
      "NOG1\n",
      "NOP2\n",
      "NOP4\n",
      "NSE4\n",
      "NSE5\n",
      "NUP159\n",
      "PAN1\n",
      "PIK1\n",
      "PRE2\n",
      "PRE3\n",
      "PRP2\n",
      "PRP6\n",
      "PRT1\n",
      "RIA1\n",
      "RPN5\n",
      "RPN7\n",
      "RPT6\n",
      "RRN3\n",
      "RRP5\n",
      "RSP5\n",
      "SCC4\n",
      "SDO1\n",
      "SEC16\n",
      "SGV1\n",
      "SPC42\n",
      "SPN1\n",
      "SRP102\n",
      "SSC1\n",
      "SWD2\n",
      "TAF12\n",
      "TAF4\n",
      "TAF5\n",
      "TFB1\n",
      "TIF6\n",
      "TIM44\n",
      "TUB4\n",
      "YEF3\n",
      "YTM1\n"
     ]
    }
   ],
   "source": [
    "for i in decreased_formation.loc[:, 'Gene']:\n",
    "    print(i)"
   ]
  },
  {
   "cell_type": "markdown",
   "id": "6f861afa-e7ae-4545-b3c9-8323511eeeb2",
   "metadata": {},
   "source": [
    "* __Increase in aggregate formation__"
   ]
  },
  {
   "cell_type": "code",
   "execution_count": 111,
   "id": "2dd973a2-d199-48ff-b49b-3b4c8020fcbd",
   "metadata": {},
   "outputs": [],
   "source": [
    "# unique list of genes, mutation of which leads to a higher percentage, size and number (intersection) of aggregates in the formation stage\n",
    "def increased_agg_formation(perc_qt, number_qt, size_qt):\n",
    "\n",
    "    l1= set(list(perc_qt.loc[perc_qt.Formation<0].index)) #lower percentage in 'Formation' stage\n",
    "    l2= set(list(number_qt.loc[number_qt.Formation<0].index)) #lower number in 'Formation' stage\n",
    "    l3= set(list(size_qt.loc[size_qt.Formation<0].index)) #lower size in 'Formation' stage\n",
    "\n",
    "    group= list(l1.intersection(l2).intersection(l3)) #intersection\n",
    "    group= pd.Series(list(set([i.split('-')[0].upper() for i in group]))).sort_values(ignore_index= True)\n",
    "    \n",
    "    hits= mutant_data.loc[mutant_data.Gene.isin(group), ['ORF', 'Gene']].drop_duplicates().sort_values('Gene').reset_index(drop= True)  \n",
    "    hits= hits.assign(Gene= hits.Gene.apply(lambda x: x.split(' ')[0]))\n",
    "    \n",
    "    return hits"
   ]
  },
  {
   "cell_type": "code",
   "execution_count": 112,
   "id": "9920abbb-8e09-49b4-9742-59dc7186b19f",
   "metadata": {},
   "outputs": [
    {
     "data": {
      "text/html": [
       "<div>\n",
       "<style scoped>\n",
       "    .dataframe tbody tr th:only-of-type {\n",
       "        vertical-align: middle;\n",
       "    }\n",
       "\n",
       "    .dataframe tbody tr th {\n",
       "        vertical-align: top;\n",
       "    }\n",
       "\n",
       "    .dataframe thead th {\n",
       "        text-align: right;\n",
       "    }\n",
       "</style>\n",
       "<table border=\"1\" class=\"dataframe\">\n",
       "  <thead>\n",
       "    <tr style=\"text-align: right;\">\n",
       "      <th></th>\n",
       "      <th>ORF</th>\n",
       "      <th>Gene</th>\n",
       "    </tr>\n",
       "  </thead>\n",
       "  <tbody>\n",
       "    <tr>\n",
       "      <th>0</th>\n",
       "      <td>YJR057W</td>\n",
       "      <td>CDC8</td>\n",
       "    </tr>\n",
       "    <tr>\n",
       "      <th>1</th>\n",
       "      <td>YKL049C</td>\n",
       "      <td>CSE4</td>\n",
       "    </tr>\n",
       "    <tr>\n",
       "      <th>2</th>\n",
       "      <td>YFL034C-B</td>\n",
       "      <td>MOB2</td>\n",
       "    </tr>\n",
       "    <tr>\n",
       "      <th>3</th>\n",
       "      <td>YLR116W</td>\n",
       "      <td>MSL5</td>\n",
       "    </tr>\n",
       "    <tr>\n",
       "      <th>4</th>\n",
       "      <td>YIL118W</td>\n",
       "      <td>RHO3</td>\n",
       "    </tr>\n",
       "    <tr>\n",
       "      <th>5</th>\n",
       "      <td>YIL021W</td>\n",
       "      <td>RPB3</td>\n",
       "    </tr>\n",
       "    <tr>\n",
       "      <th>6</th>\n",
       "      <td>YGL093W</td>\n",
       "      <td>SPC105</td>\n",
       "    </tr>\n",
       "  </tbody>\n",
       "</table>\n",
       "</div>"
      ],
      "text/plain": [
       "         ORF    Gene\n",
       "0    YJR057W    CDC8\n",
       "1    YKL049C    CSE4\n",
       "2  YFL034C-B    MOB2\n",
       "3    YLR116W    MSL5\n",
       "4    YIL118W    RHO3\n",
       "5    YIL021W    RPB3\n",
       "6    YGL093W  SPC105"
      ]
     },
     "execution_count": 112,
     "metadata": {},
     "output_type": "execute_result"
    }
   ],
   "source": [
    "increased_formation= increased_agg_formation(quantification_percentage, quantification_number, quantification_size)\n",
    "increased_formation"
   ]
  },
  {
   "cell_type": "code",
   "execution_count": 113,
   "id": "9af96d0d-e2f1-45b9-91a0-4e2494013acf",
   "metadata": {},
   "outputs": [
    {
     "name": "stdout",
     "output_type": "stream",
     "text": [
      "CDC8\n",
      "CSE4\n",
      "MOB2\n",
      "MSL5\n",
      "RHO3\n",
      "RPB3\n",
      "SPC105\n"
     ]
    }
   ],
   "source": [
    "for i in increased_formation.loc[:, 'Gene']:\n",
    "    print(i)"
   ]
  },
  {
   "cell_type": "markdown",
   "id": "2daf7502-6cbe-4d51-b3bc-492c7ee350e6",
   "metadata": {},
   "source": [
    "-----------------------------------------------------------------------------------------------------------------------"
   ]
  },
  {
   "cell_type": "markdown",
   "id": "0c2320cc-efe4-43cd-94ef-007fa189ce3e",
   "metadata": {},
   "source": [
    "* __Slower Clearance__"
   ]
  },
  {
   "cell_type": "code",
   "execution_count": 230,
   "id": "22c709a5-a7cb-4bba-a196-eb9d58faac79",
   "metadata": {},
   "outputs": [],
   "source": [
    "# unique list of genes, mutation of which leads to a higher percentage and size (intersection) of aggregates in the clearance stage\n",
    "def slower_clearance(perc_qt, size_qt):\n",
    "\n",
    "    l1= set(list(perc_qt.loc[perc_qt.Clearance<0].index)) #higher percentage in 'Clearance' stage\n",
    "    l2= set(list(size_qt.loc[size_qt.Clearance<0].index)) #larger size in 'Clearance' stage\n",
    "\n",
    "    group= list(l1.intersection(l2)) #intersection\n",
    "    group= pd.Series(list(set([i.split('-')[0].upper() for i in group]))).sort_values(ignore_index= True) #unique pandas series\n",
    "    \n",
    "    hits= mutant_data.loc[mutant_data.Gene.isin(group), ['ORF', 'Gene']].drop_duplicates().sort_values('Gene').reset_index(drop= True)\n",
    "    hits= hits.assign(Gene= hits.Gene.apply(lambda x: x.split(' ')[0]))\n",
    "    \n",
    "    return hits"
   ]
  },
  {
   "cell_type": "code",
   "execution_count": 232,
   "id": "14dc4794-ae6b-4edc-8347-725839ff118e",
   "metadata": {},
   "outputs": [],
   "source": [
    "slower_clearance= slower_clearance(quantification_percentage, quantification_size)\n",
    "# slower_clearance.to_excel(r\"C:\\Users\\Jakub\\Desktop\\clusters\\hit_lists\\disrupted_clearance.xlsx\")"
   ]
  },
  {
   "cell_type": "code",
   "execution_count": 118,
   "id": "0580a416-ec31-43e7-9348-510ec89dcc97",
   "metadata": {},
   "outputs": [
    {
     "name": "stdout",
     "output_type": "stream",
     "text": [
      "ASK1\n",
      "CCA1\n",
      "CFT2\n",
      "CTF8\n",
      "CWC2\n",
      "DAM1\n",
      "DED1\n",
      "DOP1\n",
      "GPI19\n",
      "GPI2\n",
      "GSP1\n",
      "KRE5\n",
      "MCM10\n",
      "MED6\n",
      "MED7\n",
      "MOB2\n",
      "NOG1\n",
      "NSE4\n",
      "NUP57\n",
      "PCF11\n",
      "POL1\n",
      "PRE2\n",
      "PRP9\n",
      "RPB3\n",
      "RPN1\n",
      "RPN6\n",
      "RPN7\n",
      "RPT3\n",
      "RPT6\n",
      "RRP5\n",
      "SRM1\n",
      "SUA7\n",
      "SUB2\n",
      "TSC11\n",
      "URA6\n",
      "YIP1\n",
      "YPT1\n"
     ]
    }
   ],
   "source": [
    "for i in slower_clearance.loc[:, 'Gene']:\n",
    "    print(i)"
   ]
  },
  {
   "cell_type": "markdown",
   "id": "b10b3d4d-2fbd-4468-97aa-d61939f6d96b",
   "metadata": {},
   "source": [
    "* __Faster Clearance__"
   ]
  },
  {
   "cell_type": "code",
   "execution_count": 120,
   "id": "d2c47632-c7ff-4fde-8be7-5db91318d849",
   "metadata": {},
   "outputs": [],
   "source": [
    "# unique list of genes, mutation of which leads to a lower percentage and size (intersection) of aggregates in the clearance stage\n",
    "# genes mutation of which leads to a decrease in aggregate formation excluded\n",
    "\n",
    "def faster_clearance(perc_qt, size_qt, decreased_agg_form_list):\n",
    "\n",
    "    l1= set(list(perc_qt.loc[perc_qt.Clearance>0].index)) #higher percentage in 'Clearance' stage\n",
    "    l2= set(list(size_qt.loc[size_qt.Clearance>0].index)) #larger size in 'Clearance' stage\n",
    "\n",
    "    group= list(l1.intersection(l2)) #intersection\n",
    "    group= pd.Series(list(set([i.split('-')[0].upper() for i in group]))).sort_values(ignore_index= True) #unique pandas series\n",
    "    group= group.loc[~group.isin(decreased_agg_form_list)]\n",
    "    \n",
    "    hits= mutant_data.loc[mutant_data.Gene.isin(group), ['ORF', 'Gene']].drop_duplicates().sort_values('Gene').reset_index(drop= True)\n",
    "    hits= hits.assign(Gene= hits.Gene.apply(lambda x: x.split(' ')[0]))\n",
    "    \n",
    "    return hits"
   ]
  },
  {
   "cell_type": "code",
   "execution_count": 121,
   "id": "bced2c5f-d4b9-4225-9f80-50aa3d3007de",
   "metadata": {},
   "outputs": [
    {
     "data": {
      "text/html": [
       "<div>\n",
       "<style scoped>\n",
       "    .dataframe tbody tr th:only-of-type {\n",
       "        vertical-align: middle;\n",
       "    }\n",
       "\n",
       "    .dataframe tbody tr th {\n",
       "        vertical-align: top;\n",
       "    }\n",
       "\n",
       "    .dataframe thead th {\n",
       "        text-align: right;\n",
       "    }\n",
       "</style>\n",
       "<table border=\"1\" class=\"dataframe\">\n",
       "  <thead>\n",
       "    <tr style=\"text-align: right;\">\n",
       "      <th></th>\n",
       "      <th>ORF</th>\n",
       "      <th>Gene</th>\n",
       "    </tr>\n",
       "  </thead>\n",
       "  <tbody>\n",
       "    <tr>\n",
       "      <th>0</th>\n",
       "      <td>YIL062C</td>\n",
       "      <td>ARC15</td>\n",
       "    </tr>\n",
       "    <tr>\n",
       "      <th>1</th>\n",
       "      <td>YKL052C</td>\n",
       "      <td>ASK1</td>\n",
       "    </tr>\n",
       "    <tr>\n",
       "      <th>2</th>\n",
       "      <td>YPR176C</td>\n",
       "      <td>BET2</td>\n",
       "    </tr>\n",
       "    <tr>\n",
       "      <th>3</th>\n",
       "      <td>YHR036W</td>\n",
       "      <td>BRL1</td>\n",
       "    </tr>\n",
       "    <tr>\n",
       "      <th>4</th>\n",
       "      <td>YLR314C</td>\n",
       "      <td>CDC3</td>\n",
       "    </tr>\n",
       "    <tr>\n",
       "      <th>5</th>\n",
       "      <td>YDL126C</td>\n",
       "      <td>CDC48</td>\n",
       "    </tr>\n",
       "    <tr>\n",
       "      <th>6</th>\n",
       "      <td>YMR001C</td>\n",
       "      <td>CDC5</td>\n",
       "    </tr>\n",
       "    <tr>\n",
       "      <th>7</th>\n",
       "      <td>YDL132W</td>\n",
       "      <td>CDC53</td>\n",
       "    </tr>\n",
       "    <tr>\n",
       "      <th>8</th>\n",
       "      <td>YBR135W</td>\n",
       "      <td>CKS1</td>\n",
       "    </tr>\n",
       "    <tr>\n",
       "      <th>9</th>\n",
       "      <td>YBR109C</td>\n",
       "      <td>CMD1</td>\n",
       "    </tr>\n",
       "    <tr>\n",
       "      <th>10</th>\n",
       "      <td>YGR092W</td>\n",
       "      <td>DBF2</td>\n",
       "    </tr>\n",
       "    <tr>\n",
       "      <th>11</th>\n",
       "      <td>YLR186W</td>\n",
       "      <td>EMG1</td>\n",
       "    </tr>\n",
       "    <tr>\n",
       "      <th>12</th>\n",
       "      <td>YKL189W</td>\n",
       "      <td>HYM1</td>\n",
       "    </tr>\n",
       "    <tr>\n",
       "      <th>13</th>\n",
       "      <td>YDR062W</td>\n",
       "      <td>LCB2</td>\n",
       "    </tr>\n",
       "    <tr>\n",
       "      <th>14</th>\n",
       "      <td>YIL046W</td>\n",
       "      <td>MET30</td>\n",
       "    </tr>\n",
       "    <tr>\n",
       "      <th>15</th>\n",
       "      <td>YFL034C-B</td>\n",
       "      <td>MOB2</td>\n",
       "    </tr>\n",
       "    <tr>\n",
       "      <th>16</th>\n",
       "      <td>YDR208W</td>\n",
       "      <td>MSS4</td>\n",
       "    </tr>\n",
       "    <tr>\n",
       "      <th>17</th>\n",
       "      <td>YPL211W</td>\n",
       "      <td>NIP7</td>\n",
       "    </tr>\n",
       "    <tr>\n",
       "      <th>18</th>\n",
       "      <td>YNL061W</td>\n",
       "      <td>NOP2</td>\n",
       "    </tr>\n",
       "    <tr>\n",
       "      <th>19</th>\n",
       "      <td>YPL043W</td>\n",
       "      <td>NOP4</td>\n",
       "    </tr>\n",
       "    <tr>\n",
       "      <th>20</th>\n",
       "      <td>YDL105W</td>\n",
       "      <td>NSE4</td>\n",
       "    </tr>\n",
       "    <tr>\n",
       "      <th>21</th>\n",
       "      <td>YIR006C</td>\n",
       "      <td>PAN1</td>\n",
       "    </tr>\n",
       "    <tr>\n",
       "      <th>22</th>\n",
       "      <td>YNL102W</td>\n",
       "      <td>POL1</td>\n",
       "    </tr>\n",
       "    <tr>\n",
       "      <th>23</th>\n",
       "      <td>YDL043C</td>\n",
       "      <td>PRP11</td>\n",
       "    </tr>\n",
       "    <tr>\n",
       "      <th>24</th>\n",
       "      <td>YER171W</td>\n",
       "      <td>RAD3</td>\n",
       "    </tr>\n",
       "    <tr>\n",
       "      <th>25</th>\n",
       "      <td>YBR087W</td>\n",
       "      <td>RFC5</td>\n",
       "    </tr>\n",
       "    <tr>\n",
       "      <th>26</th>\n",
       "      <td>YOR341W</td>\n",
       "      <td>RPA190</td>\n",
       "    </tr>\n",
       "    <tr>\n",
       "      <th>27</th>\n",
       "      <td>YBR079C</td>\n",
       "      <td>RPG1</td>\n",
       "    </tr>\n",
       "    <tr>\n",
       "      <th>28</th>\n",
       "      <td>YFR037C</td>\n",
       "      <td>RSC8</td>\n",
       "    </tr>\n",
       "    <tr>\n",
       "      <th>29</th>\n",
       "      <td>YLR022C</td>\n",
       "      <td>SDO1</td>\n",
       "    </tr>\n",
       "    <tr>\n",
       "      <th>30</th>\n",
       "      <td>YPL085W</td>\n",
       "      <td>SEC16</td>\n",
       "    </tr>\n",
       "    <tr>\n",
       "      <th>31</th>\n",
       "      <td>YPR161C</td>\n",
       "      <td>SGV1</td>\n",
       "    </tr>\n",
       "    <tr>\n",
       "      <th>32</th>\n",
       "      <td>YPR133C</td>\n",
       "      <td>SPN1</td>\n",
       "    </tr>\n",
       "    <tr>\n",
       "      <th>33</th>\n",
       "      <td>YMR005W</td>\n",
       "      <td>TAF4</td>\n",
       "    </tr>\n",
       "    <tr>\n",
       "      <th>34</th>\n",
       "      <td>YML114C</td>\n",
       "      <td>TAF8</td>\n",
       "    </tr>\n",
       "    <tr>\n",
       "      <th>35</th>\n",
       "      <td>YBR123C</td>\n",
       "      <td>TFC1</td>\n",
       "    </tr>\n",
       "    <tr>\n",
       "      <th>36</th>\n",
       "      <td>YAL001C</td>\n",
       "      <td>TFC3</td>\n",
       "    </tr>\n",
       "    <tr>\n",
       "      <th>37</th>\n",
       "      <td>YPR016C</td>\n",
       "      <td>TIF6</td>\n",
       "    </tr>\n",
       "  </tbody>\n",
       "</table>\n",
       "</div>"
      ],
      "text/plain": [
       "          ORF    Gene\n",
       "0     YIL062C   ARC15\n",
       "1     YKL052C    ASK1\n",
       "2     YPR176C    BET2\n",
       "3     YHR036W    BRL1\n",
       "4     YLR314C    CDC3\n",
       "5     YDL126C   CDC48\n",
       "6     YMR001C    CDC5\n",
       "7     YDL132W   CDC53\n",
       "8     YBR135W    CKS1\n",
       "9     YBR109C    CMD1\n",
       "10    YGR092W    DBF2\n",
       "11    YLR186W    EMG1\n",
       "12    YKL189W    HYM1\n",
       "13    YDR062W    LCB2\n",
       "14    YIL046W   MET30\n",
       "15  YFL034C-B    MOB2\n",
       "16    YDR208W    MSS4\n",
       "17    YPL211W    NIP7\n",
       "18    YNL061W    NOP2\n",
       "19    YPL043W    NOP4\n",
       "20    YDL105W    NSE4\n",
       "21    YIR006C    PAN1\n",
       "22    YNL102W    POL1\n",
       "23    YDL043C   PRP11\n",
       "24    YER171W    RAD3\n",
       "25    YBR087W    RFC5\n",
       "26    YOR341W  RPA190\n",
       "27    YBR079C    RPG1\n",
       "28    YFR037C    RSC8\n",
       "29    YLR022C    SDO1\n",
       "30    YPL085W   SEC16\n",
       "31    YPR161C    SGV1\n",
       "32    YPR133C    SPN1\n",
       "33    YMR005W    TAF4\n",
       "34    YML114C    TAF8\n",
       "35    YBR123C    TFC1\n",
       "36    YAL001C    TFC3\n",
       "37    YPR016C    TIF6"
      ]
     },
     "execution_count": 121,
     "metadata": {},
     "output_type": "execute_result"
    }
   ],
   "source": [
    "faster_clearance= faster_clearance(quantification_percentage, quantification_size, list(decreased_agg_formation(quantification_percentage, quantification_number, quantification_size)))\n",
    "faster_clearance"
   ]
  },
  {
   "cell_type": "code",
   "execution_count": 122,
   "id": "a1ecfd5e-2c59-4a56-8d3d-478104acaf53",
   "metadata": {},
   "outputs": [
    {
     "name": "stdout",
     "output_type": "stream",
     "text": [
      "ARC15\n",
      "ASK1\n",
      "BET2\n",
      "BRL1\n",
      "CDC3\n",
      "CDC48\n",
      "CDC5\n",
      "CDC53\n",
      "CKS1\n",
      "CMD1\n",
      "DBF2\n",
      "EMG1\n",
      "HYM1\n",
      "LCB2\n",
      "MET30\n",
      "MOB2\n",
      "MSS4\n",
      "NIP7\n",
      "NOP2\n",
      "NOP4\n",
      "NSE4\n",
      "PAN1\n",
      "POL1\n",
      "PRP11\n",
      "RAD3\n",
      "RFC5\n",
      "RPA190\n",
      "RPG1\n",
      "RSC8\n",
      "SDO1\n",
      "SEC16\n",
      "SGV1\n",
      "SPN1\n",
      "TAF4\n",
      "TAF8\n",
      "TFC1\n",
      "TFC3\n",
      "TIF6\n"
     ]
    }
   ],
   "source": [
    "for i in faster_clearance.loc[:, 'Gene']:\n",
    "    print(i)"
   ]
  },
  {
   "cell_type": "markdown",
   "id": "548c0217-1e40-4f2e-9c67-0b0ddbcc759e",
   "metadata": {},
   "source": [
    "------------------------------------------------------------------------------------------------------------------------------"
   ]
  },
  {
   "cell_type": "markdown",
   "id": "55c00c68-5b18-4f47-967f-ecd625180ae8",
   "metadata": {},
   "source": [
    "__Disrupted Relocation and Fusion__"
   ]
  },
  {
   "cell_type": "code",
   "execution_count": 240,
   "id": "4825d8ac-7cc8-42cd-a468-42b63b9dc319",
   "metadata": {
    "tags": []
   },
   "outputs": [],
   "source": [
    "# unique list of genes, mutation of which leads to a higher number of aggregates in the clearance stage\n",
    "\n",
    "def disrupted_relocation_and_fusion_1(number_qt):\n",
    "    \n",
    "    l= list(number_qt.loc[number_qt.Clearance<0].index)\n",
    "    \n",
    "    group= pd.Series(list(set([i.split('-')[0] for i in l]))).sort_values(ignore_index= True).str.upper()\n",
    "    \n",
    "    hits= mutant_data.loc[mutant_data.Gene.isin(group), ['ORF', 'Gene']].drop_duplicates().sort_values('Gene').reset_index(drop= True)\n",
    "    hits= hits.assign(Gene= hits.Gene.apply(lambda x: x.split(' ')[0]))\n",
    "    \n",
    "    return hits"
   ]
  },
  {
   "cell_type": "code",
   "execution_count": 242,
   "id": "eab7a48c-f591-4ca6-a893-0ed98d936cf9",
   "metadata": {},
   "outputs": [],
   "source": [
    "disrupted_relocation_and_fusion_1= disrupted_relocation_and_fusion_1(quantification_number)\n",
    "# disrupted_relocation_and_fusion_1.to_excel(r\"C:\\Users\\Jakub\\Desktop\\clusters\\hit_lists\\disrupted_relocation_and_fusion.xlsx\")"
   ]
  },
  {
   "cell_type": "code",
   "execution_count": 244,
   "id": "f875437d-02e0-460b-9286-002e3a16c454",
   "metadata": {},
   "outputs": [
    {
     "name": "stdout",
     "output_type": "stream",
     "text": [
      "ABD1\n",
      "ABF1\n",
      "ACT1\n",
      "ARC15\n",
      "ARC35\n",
      "ARP2\n",
      "ASK1\n",
      "BOS1\n",
      "CCA1\n",
      "CDC10\n",
      "CDC14\n",
      "CDC25\n",
      "CDC43\n",
      "CDC48\n",
      "CDC5\n",
      "CDC53\n",
      "CEG1\n",
      "CFT2\n",
      "CTF8\n",
      "CWC2\n",
      "DAM1\n",
      "DNA2\n",
      "EFB1\n",
      "EMG1\n",
      "GCD1\n",
      "GLC7\n",
      "GPI19\n",
      "GWT1\n",
      "HYS2\n",
      "ILS1\n",
      "IPL1\n",
      "LAS17\n",
      "LCB1\n",
      "LCB2\n",
      "MCD4\n",
      "MCM10\n",
      "MCM3\n",
      "MED11\n",
      "MED4\n",
      "MED6\n",
      "MES1\n",
      "MOB2\n",
      "MSL5\n",
      "NOG1\n",
      "NSE4\n",
      "NSE5\n",
      "NTF2\n",
      "ORC2\n",
      "PAM18\n",
      "PAP1\n",
      "PFY1\n",
      "POL1\n",
      "PRE1\n",
      "PRE2\n",
      "PRP9\n",
      "PUP1\n",
      "RDS3\n",
      "RIO2\n",
      "RNT1\n",
      "RPB5\n",
      "RPN1\n",
      "RPN11\n",
      "RPN6\n",
      "RPN7\n",
      "RPT3\n",
      "RPT4\n",
      "RPT6\n",
      "RRP5\n",
      "RSP5\n",
      "SEC12\n",
      "SEC13\n",
      "SEC17\n",
      "SEC23\n",
      "SEC62\n",
      "SEC63\n",
      "SEC65\n",
      "SED5\n",
      "SEN1\n",
      "SKP1\n",
      "SLN1\n",
      "SMT3\n",
      "SPC110\n",
      "SPC34\n",
      "SPT16\n",
      "SRM1\n",
      "SRP102\n",
      "SRV2\n",
      "SSU72\n",
      "SUA7\n",
      "SUB2\n",
      "SUP45\n",
      "SWD2\n",
      "TAF9\n",
      "TCP1\n",
      "TFB1\n",
      "TSC11\n",
      "TSC3\n",
      "TUB4\n",
      "URA6\n",
      "YHC1\n",
      "YIP1\n",
      "YPT1\n"
     ]
    }
   ],
   "source": [
    "for i in disrupted_relocation_and_fusion_1.loc[:, 'Gene']:\n",
    "    print(i)"
   ]
  },
  {
   "cell_type": "markdown",
   "id": "56317d33-b285-498f-a7b4-7d1be501244f",
   "metadata": {
    "tags": []
   },
   "source": [
    "* Mutants having __higher number of smaller aggregates__ in the __clearance stage__"
   ]
  },
  {
   "cell_type": "code",
   "execution_count": 129,
   "id": "8b513994-1baf-49c1-8437-755a2b6849ed",
   "metadata": {},
   "outputs": [],
   "source": [
    "def disrupted_relocation_and_fusion_2(number_qt, size_qt):\n",
    "    \n",
    "    l1= set(list(number_qt.loc[number_qt.Clearance<0].index)) #higher number in clearance\n",
    "    l2= set(list(size_qt.loc[size_qt.Clearance>0].index)) #smaller size in clearance\n",
    "    \n",
    "    group= l1.intersection(l2) #intersection\n",
    "    group= pd.Series(list(set([i.split('-')[0] for i in group]))).sort_values(ignore_index= True).str.upper() #unique pandas series\n",
    "    \n",
    "    hits= mutant_data.loc[mutant_data.Gene.isin(group), ['ORF', 'Gene']].drop_duplicates().sort_values('Gene').reset_index(drop= True)\n",
    "    hits= hits.assign(Gene= hits.Gene.apply(lambda x: x.split(' ')[0]))\n",
    "    \n",
    "    return hits"
   ]
  },
  {
   "cell_type": "code",
   "execution_count": 130,
   "id": "3e9404c7-e735-4115-a384-8e3cc196c020",
   "metadata": {},
   "outputs": [
    {
     "data": {
      "text/html": [
       "<div>\n",
       "<style scoped>\n",
       "    .dataframe tbody tr th:only-of-type {\n",
       "        vertical-align: middle;\n",
       "    }\n",
       "\n",
       "    .dataframe tbody tr th {\n",
       "        vertical-align: top;\n",
       "    }\n",
       "\n",
       "    .dataframe thead th {\n",
       "        text-align: right;\n",
       "    }\n",
       "</style>\n",
       "<table border=\"1\" class=\"dataframe\">\n",
       "  <thead>\n",
       "    <tr style=\"text-align: right;\">\n",
       "      <th></th>\n",
       "      <th>ORF</th>\n",
       "      <th>Gene</th>\n",
       "    </tr>\n",
       "  </thead>\n",
       "  <tbody>\n",
       "    <tr>\n",
       "      <th>0</th>\n",
       "      <td>YFL039C</td>\n",
       "      <td>ACT1</td>\n",
       "    </tr>\n",
       "    <tr>\n",
       "      <th>1</th>\n",
       "      <td>YLR186W</td>\n",
       "      <td>EMG1</td>\n",
       "    </tr>\n",
       "    <tr>\n",
       "      <th>2</th>\n",
       "      <td>YOR122C</td>\n",
       "      <td>PFY1</td>\n",
       "    </tr>\n",
       "    <tr>\n",
       "      <th>3</th>\n",
       "      <td>YER125W</td>\n",
       "      <td>RSP5</td>\n",
       "    </tr>\n",
       "    <tr>\n",
       "      <th>4</th>\n",
       "      <td>YPR181C</td>\n",
       "      <td>SEC23</td>\n",
       "    </tr>\n",
       "    <tr>\n",
       "      <th>5</th>\n",
       "      <td>YBR143C</td>\n",
       "      <td>SUP45</td>\n",
       "    </tr>\n",
       "    <tr>\n",
       "      <th>6</th>\n",
       "      <td>YBR058C-A</td>\n",
       "      <td>TSC3</td>\n",
       "    </tr>\n",
       "  </tbody>\n",
       "</table>\n",
       "</div>"
      ],
      "text/plain": [
       "         ORF   Gene\n",
       "0    YFL039C   ACT1\n",
       "1    YLR186W   EMG1\n",
       "2    YOR122C   PFY1\n",
       "3    YER125W   RSP5\n",
       "4    YPR181C  SEC23\n",
       "5    YBR143C  SUP45\n",
       "6  YBR058C-A   TSC3"
      ]
     },
     "execution_count": 130,
     "metadata": {},
     "output_type": "execute_result"
    }
   ],
   "source": [
    "disrupted_relocation_and_fusion_2= disrupted_relocation_and_fusion_2(quantification_number, quantification_size)\n",
    "disrupted_relocation_and_fusion_2"
   ]
  },
  {
   "cell_type": "code",
   "execution_count": 131,
   "id": "1eda6e2c-2cb0-4935-9bac-9287c09199bb",
   "metadata": {},
   "outputs": [
    {
     "name": "stdout",
     "output_type": "stream",
     "text": [
      "ACT1\n",
      "EMG1\n",
      "PFY1\n",
      "RSP5\n",
      "SEC23\n",
      "SUP45\n",
      "TSC3\n"
     ]
    }
   ],
   "source": [
    "for i in disrupted_relocation_and_fusion_2.loc[:, 'Gene']:\n",
    "    print(i)"
   ]
  },
  {
   "cell_type": "markdown",
   "id": "fad25127-e77c-449c-b1e3-92bfa6432bb7",
   "metadata": {},
   "source": [
    "----------------------------------------------------------"
   ]
  }
 ],
 "metadata": {
  "kernelspec": {
   "display_name": "Python 3 (ipykernel)",
   "language": "python",
   "name": "python3"
  },
  "language_info": {
   "codemirror_mode": {
    "name": "ipython",
    "version": 3
   },
   "file_extension": ".py",
   "mimetype": "text/x-python",
   "name": "python",
   "nbconvert_exporter": "python",
   "pygments_lexer": "ipython3",
   "version": "3.9.19"
  }
 },
 "nbformat": 4,
 "nbformat_minor": 5
}
